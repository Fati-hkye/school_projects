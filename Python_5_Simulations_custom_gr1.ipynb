{
 "cells": [
  {
   "cell_type": "markdown",
   "metadata": {},
   "source": [
    "# **Part 1 : Simulation of random variables**"
   ]
  },
  {
   "cell_type": "code",
   "execution_count": 1,
   "metadata": {},
   "outputs": [],
   "source": [
    "import numpy as np\n",
    "import matplotlib.pyplot as plt\n",
    "import random as rnd\n",
    "import scipy.stats as sts"
   ]
  },
  {
   "cell_type": "markdown",
   "metadata": {},
   "source": [
    "The base function to generate random numbers with python is `rnd.random()` that gives back a uniform random number between $0$ and $1$."
   ]
  },
  {
   "cell_type": "markdown",
   "metadata": {},
   "source": [
    "Execute multiple times the two following cells : "
   ]
  },
  {
   "cell_type": "code",
   "execution_count": 2,
   "metadata": {},
   "outputs": [
    {
     "data": {
      "text/plain": [
       "0.4408976790073871"
      ]
     },
     "execution_count": 2,
     "metadata": {},
     "output_type": "execute_result"
    }
   ],
   "source": [
    "rnd.random()"
   ]
  },
  {
   "cell_type": "code",
   "execution_count": 3,
   "metadata": {},
   "outputs": [
    {
     "data": {
      "text/plain": [
       "0.13436424411240122"
      ]
     },
     "execution_count": 3,
     "metadata": {},
     "output_type": "execute_result"
    }
   ],
   "source": [
    "rnd.seed(1)\n",
    "rnd.random()"
   ]
  },
  {
   "cell_type": "markdown",
   "metadata": {},
   "source": [
    "With `rnd.seed(a)` you fixe the seed used to generate these numbers and therefore the your \"random\" experiences become reproductible.\n",
    "\n",
    " In reality the \"random\" numbers you can access are what we call \"pseudo-random\" numbers, they follow a sequence that give an illusion of randomness when repeted."
   ]
  },
  {
   "cell_type": "markdown",
   "metadata": {},
   "source": [
    "#### Generate integers"
   ]
  },
  {
   "cell_type": "code",
   "execution_count": 4,
   "metadata": {},
   "outputs": [
    {
     "data": {
      "text/plain": [
       "3"
      ]
     },
     "execution_count": 4,
     "metadata": {},
     "output_type": "execute_result"
    }
   ],
   "source": [
    "rnd.randint(1,20) # generate integers n between 1 and 20,  (a<= n <= b)"
   ]
  },
  {
   "cell_type": "code",
   "execution_count": 5,
   "metadata": {},
   "outputs": [
    {
     "data": {
      "text/plain": [
       "9"
      ]
     },
     "execution_count": 5,
     "metadata": {},
     "output_type": "execute_result"
    }
   ],
   "source": [
    "rnd.randrange(1, 21, 2) # générate numbers between 1 and 21, (1 included, 21 excluded) with steps of 2\n",
    "                        # so here it return 3, 5, 7, 9, 11, 13, 15, 17 or 19.\n",
    "                        # if the stap is not mentioned, the default value is 1"
   ]
  },
  {
   "cell_type": "markdown",
   "metadata": {},
   "source": [
    "### with sequences"
   ]
  },
  {
   "cell_type": "code",
   "execution_count": 6,
   "metadata": {},
   "outputs": [
    {
     "data": {
      "text/plain": [
       "1"
      ]
     },
     "execution_count": 6,
     "metadata": {},
     "output_type": "execute_result"
    }
   ],
   "source": [
    "rnd.choice([1, 4, 5.6, 'rty', True])  #select a random element in the sequence"
   ]
  },
  {
   "cell_type": "code",
   "execution_count": 7,
   "metadata": {},
   "outputs": [
    {
     "data": {
      "text/plain": [
       "[4, 4, 4]"
      ]
     },
     "execution_count": 7,
     "metadata": {},
     "output_type": "execute_result"
    }
   ],
   "source": [
    "rnd.choices([1, 4, 5.6, 'rty', True],           # give back a list of  lenght k of elements of the sequence \n",
    "            weights = [.1, .6, .1, .1, .1],     # each one independantly selected according to the weights\n",
    "            k=3)"
   ]
  },
  {
   "cell_type": "code",
   "execution_count": 8,
   "metadata": {},
   "outputs": [
    {
     "data": {
      "text/plain": [
       "['sunday', 'tuesday', 'monday', 'thursday', 'friday']"
      ]
     },
     "execution_count": 8,
     "metadata": {},
     "output_type": "execute_result"
    }
   ],
   "source": [
    "rnd.sample(['monday', 'tuesday', 'wednesday', 'thursday', 'friday', 'saturday', 'sunday'], 5)\n",
    "# select 5 element of the list WITHOUT repetition"
   ]
  },
  {
   "cell_type": "markdown",
   "metadata": {},
   "source": [
    "`rnd.sample(['red', 'green', 'blue'], k=5, counts = [1, 4, 2])` \n",
    " works only with python version 3.9 and more, \n",
    " it is equivalente to : "
   ]
  },
  {
   "cell_type": "code",
   "execution_count": 10,
   "metadata": {},
   "outputs": [
    {
     "data": {
      "text/plain": [
       "['blue', 'green', 'blue', 'red', 'green']"
      ]
     },
     "execution_count": 10,
     "metadata": {},
     "output_type": "execute_result"
    }
   ],
   "source": [
    "rnd.sample(['red', 'green', 'green', 'green', 'green', 'blue', 'blue'], k=5)"
   ]
  },
  {
   "cell_type": "code",
   "execution_count": 13,
   "metadata": {},
   "outputs": [
    {
     "data": {
      "text/plain": [
       "['friday', 'wednesday', 'sunday', 'tuesday', 'monday', 'saturday', 'thursday']"
      ]
     },
     "execution_count": 13,
     "metadata": {},
     "output_type": "execute_result"
    }
   ],
   "source": [
    "l = ['monday', 'tuesday', 'wednesday', 'thursday', 'friday', 'saturday', 'sunday']\n",
    "rnd.shuffle(l) # in place suffle, the same variable will contain your list/array with a random permutation\n",
    "\n",
    "l"
   ]
  },
  {
   "cell_type": "markdown",
   "metadata": {},
   "source": [
    "### Real distributions"
   ]
  },
  {
   "cell_type": "markdown",
   "metadata": {},
   "source": [
    "Some distributions are already implemented in `ramdom`, those method only implement one realisation of a variable. To go deeper, we'll use the `scipy.stats` module. You'll have much more distributions and also more tools than only generation. See [here](https://docs.scipy.org/doc/scipy/reference/stats.html#module-scipy.stats) for the whole list"
   ]
  },
  {
   "cell_type": "code",
   "execution_count": 16,
   "metadata": {},
   "outputs": [],
   "source": [
    "Z = sts.norm(loc=1, scale = 2) # without loc and scale it's a standard gaussian (mean 0, std 1)"
   ]
  },
  {
   "cell_type": "markdown",
   "metadata": {},
   "source": [
    "Now with differents method we can access different informations about this variable : \n",
    "- `Z.rvs()` to generate a random number \n",
    "- `Z.pdf(x)` the probability density function \n",
    "- `Z.cdf(x)` for the cumulative distribution function\n",
    "- `Z.ppf(q)` for percent point function (inverse of `cdf`)\n",
    "- `Z.sf(x)` for the survival function (also define as `1 - cdf`)\n",
    "- `Z.interval(confidence, p, a, b)` gives a confidence interval with equal areas around the median\n",
    "- many more"
   ]
  },
  {
   "cell_type": "code",
   "execution_count": 27,
   "metadata": {},
   "outputs": [
    {
     "data": {
      "text/plain": [
       "<matplotlib.legend.Legend at 0x1c59eff5250>"
      ]
     },
     "execution_count": 27,
     "metadata": {},
     "output_type": "execute_result"
    },
    {
     "data": {
      "image/png": "[encoded data removed]",
      "text/plain": [
       "<Figure size 640x480 with 1 Axes>"
      ]
     },
     "metadata": {},
     "output_type": "display_data"
    }
   ],
   "source": [
    "N = 1000\n",
    "\n",
    "sample = Z.rvs(size = N)\n",
    "xx = np.linspace(-10, 10, 1000)\n",
    "\n",
    "plt.hist(sample, density=True, bins = 20, label = 'sample histogram')\n",
    "plt.plot(xx, Z.pdf(xx), label='real density curve')\n",
    "plt.legend()"
   ]
  },
  {
   "cell_type": "markdown",
   "metadata": {},
   "source": [
    "# **Part 2 : Image managing**"
   ]
  },
  {
   "cell_type": "code",
   "execution_count": null,
   "metadata": {},
   "outputs": [],
   "source": [
    "import numpy as np\n",
    "import matplotlib.pyplot as plt\n",
    "from PIL import Image"
   ]
  },
  {
   "cell_type": "code",
   "execution_count": null,
   "metadata": {},
   "outputs": [],
   "source": [
    "img_bw = Image.open('calanque.png').convert('L') #'RGB' for color images, or 'L' for greyscale, and '1' for black or white\n",
    "img_rgb = Image.open('calanque.png').convert('RGB') "
   ]
  },
  {
   "cell_type": "markdown",
   "metadata": {},
   "source": [
    "To work with image we use the module `Image` in the `PIL` library (here's the corresponding [documentation](https://pillow.readthedocs.io/en/stable/reference/Image.html) ), this can allow to import, expor, do some transformations on an existing image. But you can also create new ones with NumPy `2d-array` with each element of the array represent a pixel, with one value for greyscale images, or thre for RGB ones, then you can visualize them with `matplotlib`. \n",
    "\n",
    "You can also switch from from PIL.Image to np.array, with\n",
    "`np.array( ... )` "
   ]
  },
  {
   "cell_type": "code",
   "execution_count": null,
   "metadata": {},
   "outputs": [],
   "source": [
    "type(img_bw)"
   ]
  },
  {
   "cell_type": "code",
   "execution_count": null,
   "metadata": {},
   "outputs": [],
   "source": [
    "img_bw #here it just print you as an output the image"
   ]
  },
  {
   "cell_type": "code",
   "execution_count": null,
   "metadata": {},
   "outputs": [],
   "source": [
    "img_bw.show() #if you're not in google colab : show the image and open it in another window \n"
   ]
  },
  {
   "cell_type": "code",
   "execution_count": null,
   "metadata": {},
   "outputs": [],
   "source": [
    "display(img_bw) #the same thing with google colab"
   ]
  },
  {
   "cell_type": "markdown",
   "metadata": {},
   "source": [
    "The interest of `.show()` or `display()` is that it will always displayyour image even in the middle of your code. If you have an image store in the varible `img`, just calling `img` it won't display it, this only work when you call `img` at he end of a cell, look at the next cell for an exemple"
   ]
  },
  {
   "cell_type": "code",
   "execution_count": null,
   "metadata": {},
   "outputs": [],
   "source": [
    "img_bw\n",
    "print(12)"
   ]
  },
  {
   "cell_type": "markdown",
   "metadata": {},
   "source": [
    "To modify or to create an image pixel by pixel, we convert it to a `numpy_array`"
   ]
  },
  {
   "cell_type": "code",
   "execution_count": null,
   "metadata": {},
   "outputs": [],
   "source": [
    "array_bw = np.array(img_bw)\n",
    "array_rgb = np.array(img_rgb)"
   ]
  },
  {
   "cell_type": "code",
   "execution_count": null,
   "metadata": {},
   "outputs": [],
   "source": [
    "plt.imshow(array_bw, cmap = 'gray')"
   ]
  },
  {
   "cell_type": "markdown",
   "metadata": {},
   "source": [
    "the `cmap` parameter in the colormap used it will automaticaly scale from the minimum to the maximum valu of your array. If you don't precise it, it will use `'viridis'` wich goes from purple to yellow, for black and White images the more appropriate one is `'gray'`, but there is many of possibilyties depending on wath you're displaying, see [here](https://matplotlib.org/stable/gallery/color/colormap_reference.html/) for more "
   ]
  },
  {
   "cell_type": "code",
   "execution_count": null,
   "metadata": {},
   "outputs": [],
   "source": [
    "list_of_cmaps = ['viridis', 'gray', 'Greys', 'summer', 'winter', 'cool', 'prism', 'jet', 'bwr', 'nipy_spectral', 'tab10', 'tab20']\n",
    "N = len(list_of_cmaps)\n",
    "\n",
    "fig, ax = plt.subplots(figsize=(10,5))\n",
    "\n",
    "for i, cmap in enumerate(list_of_cmaps) : \n",
    "    xx = np.linspace(0, 1, 2000)\n",
    "    yy = [ i/N for _ in range(2000)]\n",
    "    plt.scatter(xx, yy, marker = 's', s= 200 ,  c=xx, cmap= cmap, label=f'{cmap}')\n",
    "    ax.annotate(f'{cmap}', xy = (1.05, i/N))\n",
    "\n",
    "    \n",
    "\n",
    "ax.set_xlim(-.05, 1.3)\n",
    "# plt.legend()"
   ]
  },
  {
   "cell_type": "code",
   "execution_count": null,
   "metadata": {},
   "outputs": [],
   "source": [
    "# execute this cell to see all the possible colormaps\n",
    "cmaps = [('Perceptually Uniform Sequential', [\n",
    "            'viridis', 'plasma', 'inferno', 'magma', 'cividis']),\n",
    "         ('Sequential', [\n",
    "            'Greys', 'Purples', 'Blues', 'Greens', 'Oranges', 'Reds',\n",
    "            'YlOrBr', 'YlOrRd', 'OrRd', 'PuRd', 'RdPu', 'BuPu',\n",
    "            'GnBu', 'PuBu', 'YlGnBu', 'PuBuGn', 'BuGn', 'YlGn']),\n",
    "         ('Sequential (2)', [\n",
    "            'binary', 'gist_yarg', 'gist_gray', 'gray', 'bone', 'pink',\n",
    "            'spring', 'summer', 'autumn', 'winter', 'cool', 'Wistia',\n",
    "            'hot', 'afmhot', 'gist_heat', 'copper']),\n",
    "         ('Diverging', [\n",
    "            'PiYG', 'PRGn', 'BrBG', 'PuOr', 'RdGy', 'RdBu',\n",
    "            'RdYlBu', 'RdYlGn', 'Spectral', 'coolwarm', 'bwr', 'seismic']),\n",
    "         ('Cyclic', ['twilight', 'twilight_shifted', 'hsv']),\n",
    "         ('Qualitative', [\n",
    "            'Pastel1', 'Pastel2', 'Paired', 'Accent',\n",
    "            'Dark2', 'Set1', 'Set2', 'Set3',\n",
    "            'tab10', 'tab20', 'tab20b', 'tab20c']),\n",
    "         ('Miscellaneous', [\n",
    "            'flag', 'prism', 'ocean', 'gist_earth', 'terrain', 'gist_stern',\n",
    "            'gnuplot', 'gnuplot2', 'CMRmap', 'cubehelix', 'brg',\n",
    "            'gist_rainbow', 'rainbow', 'jet', 'turbo', 'nipy_spectral',\n",
    "            'gist_ncar'])]\n",
    "\n",
    "gradient = np.linspace(0, 1, 256)\n",
    "gradient = np.vstack((gradient, gradient))\n",
    "\n",
    "\n",
    "def plot_color_gradients(cmap_category, cmap_list):\n",
    "    # Create figure and adjust figure height to number of colormaps\n",
    "    nrows = len(cmap_list)\n",
    "    figh = 0.35 + 0.15 + (nrows + (nrows-1)*0.1)*0.22\n",
    "    fig, axs = plt.subplots(nrows=nrows, figsize=(6.4, figh))\n",
    "    fig.subplots_adjust(top=1-.35/figh, bottom=.15/figh, left=0.2, right=0.99)\n",
    "\n",
    "    axs[0].set_title(f\"{cmap_category} colormaps\", fontsize=14)\n",
    "\n",
    "    for ax, cmap_name in zip(axs, cmap_list):\n",
    "        ax.imshow(gradient, aspect='auto', cmap=cmap_name)\n",
    "        ax.text(-.01, .5, cmap_name, va='center', ha='right', fontsize=10,\n",
    "                transform=ax.transAxes)\n",
    "\n",
    "    # Turn off *all* ticks & spines, not just the ones with colormaps.\n",
    "    for ax in axs:\n",
    "        ax.set_axis_off()\n",
    "\n",
    "\n",
    "for cmap_category, cmap_list in cmaps:\n",
    "    plot_color_gradients(cmap_category, cmap_list)"
   ]
  },
  {
   "cell_type": "markdown",
   "metadata": {},
   "source": [
    "`plt.imshow()` also work for RGB images, with an array of shape `(n, m, 3)` it will automatically interprets it as an RGB image"
   ]
  },
  {
   "cell_type": "code",
   "execution_count": null,
   "metadata": {},
   "outputs": [],
   "source": [
    "plt.imshow(array_rgb)\n"
   ]
  },
  {
   "attachments": {
    "image plt_imshow.png": {
     "image/png": "[encoded data removed]"
    }
   },
   "cell_type": "markdown",
   "metadata": {},
   "source": [
    "Be careful when manipulating images as numpy array : the first coordinate corresponds to the vertical axis directed from top to bottom, and the second coordinate to the horizontale axis from left to right. The indexes  are like for matrixes but starting from 0.\n",
    "\n",
    "For exemple here the red squared pixel is the one of index `[6,2]`\n",
    "\n",
    "![image plt_imshow.png](<attachment:image plt_imshow.png>)"
   ]
  },
  {
   "cell_type": "code",
   "execution_count": null,
   "metadata": {},
   "outputs": [],
   "source": [
    "xx = np.linspace(0, 1200, 1200)\n",
    "plt.imshow(array_rgb)\n",
    "plt.plot(xx, xx, color = 'red')\n",
    "\n",
    "plt.axis('off') #to get rid of the axis display "
   ]
  },
  {
   "cell_type": "code",
   "execution_count": null,
   "metadata": {},
   "outputs": [],
   "source": [
    "def filter_col(array, k):\n",
    "    \"\"\"\n",
    "    we only look at one color channel (k=0 : red, k=1 : green, k=2 : blue)\n",
    "    we keep the 3 dimentions for each pixel, \n",
    "    we keep the value of our filter as it is and set the others two at 0\n",
    "    \"\"\"\n",
    "    n = len(array)\n",
    "    m = len(array[0])\n",
    "    res = array.copy()\n",
    "    res[:,:, (k+1)%3] = np.zeros((n,m))\n",
    "    res[:,:, (k+2)%3] = np.zeros((n,m))\n",
    "    return res\n",
    "\n",
    "def from_rgb_to_gl(array):\n",
    "    \"\"\"\n",
    "    We calculate the luminance for each pixel : L = 0.2126 * R + 0.7152 * G + 0.0722 * B\n",
    "    \"\"\"\n",
    "    res = 0.2126 * array[:,:,0] + 0.7152 * array[:,:,1] + 0.0722 * array[:,:,2]\n",
    "    return res\n",
    "\n",
    "\n",
    "def from_rgb_to_bw (array, t):\n",
    "    \"\"\"\n",
    "    We calculate the mean of the tree values for each pixel and compare it to a threshold value (t)\n",
    "    if it's above the piwel is white, otherwise it's black\n",
    "    \"\"\"\n",
    "    n = len(array)\n",
    "    m = len(array[0])\n",
    "    res = array.mean(axis=2) > t\n",
    "    return res"
   ]
  },
  {
   "cell_type": "code",
   "execution_count": null,
   "metadata": {},
   "outputs": [],
   "source": [
    "array_rgb.mean(axis=2)"
   ]
  },
  {
   "cell_type": "code",
   "execution_count": null,
   "metadata": {},
   "outputs": [],
   "source": [
    "plt.imshow(filter_col(array_rgb, 0))"
   ]
  },
  {
   "cell_type": "code",
   "execution_count": null,
   "metadata": {},
   "outputs": [],
   "source": [
    "plt.imshow(from_rgb_to_gl(array_rgb), cmap='gray')"
   ]
  },
  {
   "cell_type": "code",
   "execution_count": null,
   "metadata": {},
   "outputs": [],
   "source": [
    "array_rgb.mean()"
   ]
  },
  {
   "cell_type": "code",
   "execution_count": null,
   "metadata": {},
   "outputs": [],
   "source": [
    "list_t = [ 1, 25, 50, 75, 100, 120, 125, 150, 175, 200, 225, 250, 255]\n",
    "\n",
    "n_col = 4\n",
    "n_row = (len(list_t)//4) + 1\n",
    "\n",
    "plt.figure(figsize = ( 8*n_col, 8*n_row))\n",
    "for i,t in enumerate(list_t):\n",
    "    plt.subplot(n_row, n_col, i+1)\n",
    "    plt.imshow(from_rgb_to_bw(array_rgb, t), cmap='gray')\n",
    "    plt.title(f't = {t}')\n",
    "    plt.axis('off')"
   ]
  },
  {
   "cell_type": "markdown",
   "metadata": {},
   "source": [
    "## Creating your images from scratch"
   ]
  },
  {
   "cell_type": "code",
   "execution_count": null,
   "metadata": {},
   "outputs": [],
   "source": [
    "n, m = 10, 15\n",
    "my_img = np.zeros((n,m))\n",
    "\n",
    "for i in range(n):\n",
    "    for j in range(m):\n",
    "        my_img[i,j] = np.random.rand()\n",
    "\n",
    "plt.imshow(my_img)"
   ]
  },
  {
   "cell_type": "code",
   "execution_count": null,
   "metadata": {},
   "outputs": [],
   "source": [
    "plt.imsave('pic1.png', my_img) # this will save your image as a png file in the same place your notebook is stored\n",
    "#if a file with this name already exists it will erase it and replace it the image\n",
    "# to save it in a different folder, just replace the name of the file with the whole path to it"
   ]
  },
  {
   "cell_type": "code",
   "execution_count": null,
   "metadata": {},
   "outputs": [],
   "source": [
    "grid_states = np.array([[3, 1, 0, 0, 0],\n",
    "                        [0, 1, 0, 1, 0],\n",
    "                        [0, 2, 2, 1, 1],\n",
    "                        [0, 1, 1, 1, 0],\n",
    "                        [0, 0, 0, 0, 0],\n",
    "                        ])\n",
    "\n",
    "plt.imshow(grid_states, cmap = 'Set3' )"
   ]
  },
  {
   "cell_type": "code",
   "execution_count": null,
   "metadata": {},
   "outputs": [],
   "source": [
    "import random"
   ]
  },
  {
   "cell_type": "code",
   "execution_count": null,
   "metadata": {},
   "outputs": [],
   "source": [
    "def create_rnd_labyrinth(width, height):\n",
    "    labyrinth = [[0] * width for _ in range(height)]\n",
    "\n",
    "    for x in range(1, width - 1, 2):\n",
    "        for y in range(1, height - 1, 2):\n",
    "            labyrinth[y][x] = 1  # Passege\n",
    "            direction = random.choice([(0, 1), (1, 0), (0, -1), (-1, 0)])\n",
    "            maze_y = y + direction[1]\n",
    "            maze_x = x + direction[0]\n",
    "            if 0 < maze_y < height and 0 < maze_x < width:\n",
    "                labyrinth[maze_y][maze_x] = 1\n",
    "\n",
    "    return labyrinth\n",
    "\n",
    "\n",
    "maze = create_rnd_labyrinth(20, 20)\n",
    "\n",
    "plt.imshow(maze, cmap='Greys')\n"
   ]
  },
  {
   "cell_type": "code",
   "execution_count": null,
   "metadata": {},
   "outputs": [],
   "source": [
    "class UnionFind:\n",
    "    def __init__(self, n):\n",
    "        self.parent = list(range(n))\n",
    "\n",
    "    def find(self, u):\n",
    "        if self.parent[u] != u:\n",
    "            self.parent[u] = self.find(self.parent[u])\n",
    "        return self.parent[u]\n",
    "\n",
    "    def union(self, u, v):\n",
    "        pu, pv = self.find(u), self.find(v)\n",
    "        if pu != pv:\n",
    "            self.parent[pu] = pv\n",
    "            return True\n",
    "        return False\n",
    "\n",
    "def kruskal_labyrinth(width, height):\n",
    "    labyrinth = [[1] * width for _ in range(height)]\n",
    "    walls = []\n",
    "    uf = UnionFind(width * height)\n",
    "\n",
    "    for y in range(0, height, 2):\n",
    "        for x in range(0, width, 2):\n",
    "            labyrinth[y][x] = 0\n",
    "            if x < width - 2:\n",
    "                walls.append((x, y, x + 2, y))\n",
    "            if y < height - 2:\n",
    "                walls.append((x, y, x, y + 2))\n",
    "\n",
    "    random.shuffle(walls)\n",
    "\n",
    "    for x1, y1, x2, y2 in walls:\n",
    "        if uf.union(y1 * width + x1, y2 * width + x2):\n",
    "            labyrinth[(y1 + y2) // 2][(x1 + x2) // 2] = 0\n",
    "\n",
    "    return labyrinth\n",
    "\n",
    "\n",
    "maze = kruskal_labyrinth(20, 20)\n",
    "plt.imshow(maze, cmap='Greys')"
   ]
  },
  {
   "cell_type": "markdown",
   "metadata": {},
   "source": [
    "# **Part 3 : Integrating SQL requests**"
   ]
  },
  {
   "cell_type": "markdown",
   "metadata": {},
   "source": [
    "Une [video](https://www.youtube.com/watch?v=IqgWWGE2DV0) qui intègre des requete SQL dansun notebook qui tourne sur Python 3"
   ]
  },
  {
   "cell_type": "code",
   "execution_count": null,
   "metadata": {},
   "outputs": [],
   "source": [
    "import pandas as pd\n",
    "import sqlite3 as sql"
   ]
  },
  {
   "cell_type": "markdown",
   "metadata": {},
   "source": [
    "Creating a database connection"
   ]
  },
  {
   "cell_type": "code",
   "execution_count": null,
   "metadata": {},
   "outputs": [],
   "source": [
    "# connect() method\n",
    "db_connection = sql.connect('new_sql_bd')"
   ]
  },
  {
   "cell_type": "markdown",
   "metadata": {},
   "source": [
    "Create a middleware between SQL database connection and SQL Query"
   ]
  },
  {
   "cell_type": "code",
   "execution_count": null,
   "metadata": {},
   "outputs": [],
   "source": [
    "# cursor()\n",
    "execute_sql = db_connection.cursor()"
   ]
  },
  {
   "cell_type": "markdown",
   "metadata": {},
   "source": [
    "Import required tables as dataframes"
   ]
  },
  {
   "cell_type": "code",
   "execution_count": null,
   "metadata": {},
   "outputs": [],
   "source": [
    "# read csv \n",
    "# path = # the path to your csv document or its name if it is store in the same folder as your notebook\n",
    "\n",
    "path = 'store_table_exemple.csv'\n",
    "\n",
    "\n",
    "new_table = pd.read_csv(path, sep =';')\n",
    "\n",
    "new_table"
   ]
  },
  {
   "cell_type": "markdown",
   "metadata": {},
   "source": [
    "Insert the date into the sql database"
   ]
  },
  {
   "cell_type": "code",
   "execution_count": null,
   "metadata": {},
   "outputs": [],
   "source": [
    "# to_sql() method, inside the parentethis will be the name of the sql database\n",
    "new_table.to_sql('store_table',\n",
    "                 con = db_connection,\n",
    "                 if_exists = 'replace')\n"
   ]
  },
  {
   "cell_type": "markdown",
   "metadata": {},
   "source": [
    "Query table using SQL"
   ]
  },
  {
   "cell_type": "markdown",
   "metadata": {},
   "source": [
    "`result = pd.read_sql(\"\"\" `\\\n",
    "                    `You write here your SQL request `\\\n",
    "                    `\"\"\", `\\\n",
    "                    `con = db_connection)`"
   ]
  },
  {
   "cell_type": "code",
   "execution_count": null,
   "metadata": {},
   "outputs": [],
   "source": [
    "result = pd.read_sql(\"\"\" select * from\n",
    "                    store_table\n",
    "                     where item in ('pen', 'book')\n",
    "                    \"\"\", \n",
    "                    con = db_connection)"
   ]
  },
  {
   "cell_type": "code",
   "execution_count": null,
   "metadata": {},
   "outputs": [],
   "source": [
    "result "
   ]
  },
  {
   "cell_type": "code",
   "execution_count": null,
   "metadata": {},
   "outputs": [],
   "source": [
    "result2 = pd.read_sql(\"\"\" select avg(unit_sold) as avg_units from\n",
    "                    store_table\n",
    "                     where item in ('pen', 'book')\n",
    "                    \"\"\", \n",
    "                    con = db_connection)"
   ]
  },
  {
   "cell_type": "code",
   "execution_count": null,
   "metadata": {},
   "outputs": [],
   "source": [
    "result2"
   ]
  },
  {
   "cell_type": "code",
   "execution_count": null,
   "metadata": {},
   "outputs": [],
   "source": [
    "df= pd.DataFrame({'name': ['Juan', 'Victoria', 'Mary'], \n",
    "                  'age': [23,34,43], \n",
    "                  'city': ['Miami', 'Buenos Aires','Santiago']})\n",
    "\n",
    "df"
   ]
  },
  {
   "cell_type": "markdown",
   "metadata": {},
   "source": [
    "## Another way to do it"
   ]
  },
  {
   "cell_type": "code",
   "execution_count": null,
   "metadata": {},
   "outputs": [],
   "source": [
    "!pip install ipython-sql # à n'executer qu'une fois"
   ]
  },
  {
   "cell_type": "code",
   "execution_count": null,
   "metadata": {},
   "outputs": [],
   "source": [
    "cnn = sql.connect('jupyter_sql_tutorial.db')"
   ]
  },
  {
   "cell_type": "code",
   "execution_count": null,
   "metadata": {},
   "outputs": [],
   "source": [
    "df.to_sql('people', cnn, if_exists = 'replace')\n",
    "%load_ext sql"
   ]
  },
  {
   "cell_type": "code",
   "execution_count": null,
   "metadata": {},
   "outputs": [],
   "source": [
    "%sql sqlite:///jupyter_sql_tutorial.db"
   ]
  },
  {
   "cell_type": "code",
   "execution_count": null,
   "metadata": {},
   "outputs": [],
   "source": [
    "%%sql\n",
    "SELECT *\n",
    "FROM people\n"
   ]
  },
  {
   "cell_type": "code",
   "execution_count": null,
   "metadata": {},
   "outputs": [],
   "source": [
    "%%sql\n",
    "SELECT count(*)\n",
    "FROM people"
   ]
  },
  {
   "cell_type": "code",
   "execution_count": null,
   "metadata": {},
   "outputs": [],
   "source": [
    "%%sql\n",
    "SELECT sum(age) as 'age_sum'\n",
    "FROM people"
   ]
  },
  {
   "cell_type": "code",
   "execution_count": null,
   "metadata": {},
   "outputs": [],
   "source": []
  }
 ],
 "metadata": {
  "kernelspec": {
   "display_name": "Python 3",
   "language": "python",
   "name": "python3"
  },
  "language_info": {
   "codemirror_mode": {
    "name": "ipython",
    "version": 3
   },
   "file_extension": ".py",
   "mimetype": "text/x-python",
   "name": "python",
   "nbconvert_exporter": "python",
   "pygments_lexer": "ipython3",
   "version": "3.8.10"
  }
 },
 "nbformat": 4,
 "nbformat_minor": 2
}
