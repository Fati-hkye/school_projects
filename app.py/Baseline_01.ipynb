{
 "cells": [
  {
   "cell_type": "code",
   "execution_count": 33,
   "id": "5e388da9-423c-411d-b1af-a6606198f915",
   "metadata": {},
   "outputs": [
    {
     "name": "stdout",
     "output_type": "stream",
     "text": [
      "Collecting flask_sqlalchemy\n",
      "  Downloading flask_sqlalchemy-3.1.1-py3-none-any.whl.metadata (3.4 kB)\n",
      "Requirement already satisfied: flask>=2.2.5 in /opt/anaconda3/lib/python3.12/site-packages (from flask_sqlalchemy) (3.0.3)\n",
      "Requirement already satisfied: sqlalchemy>=2.0.16 in /opt/anaconda3/lib/python3.12/site-packages (from flask_sqlalchemy) (2.0.34)\n",
      "Requirement already satisfied: Werkzeug>=3.0.0 in /opt/anaconda3/lib/python3.12/site-packages (from flask>=2.2.5->flask_sqlalchemy) (3.0.3)\n",
      "Requirement already satisfied: Jinja2>=3.1.2 in /opt/anaconda3/lib/python3.12/site-packages (from flask>=2.2.5->flask_sqlalchemy) (3.1.4)\n",
      "Requirement already satisfied: itsdangerous>=2.1.2 in /opt/anaconda3/lib/python3.12/site-packages (from flask>=2.2.5->flask_sqlalchemy) (2.2.0)\n",
      "Requirement already satisfied: click>=8.1.3 in /opt/anaconda3/lib/python3.12/site-packages (from flask>=2.2.5->flask_sqlalchemy) (8.1.7)\n",
      "Requirement already satisfied: blinker>=1.6.2 in /opt/anaconda3/lib/python3.12/site-packages (from flask>=2.2.5->flask_sqlalchemy) (1.6.2)\n",
      "Requirement already satisfied: typing-extensions>=4.6.0 in /opt/anaconda3/lib/python3.12/site-packages (from sqlalchemy>=2.0.16->flask_sqlalchemy) (4.11.0)\n",
      "Requirement already satisfied: greenlet!=0.4.17 in /opt/anaconda3/lib/python3.12/site-packages (from sqlalchemy>=2.0.16->flask_sqlalchemy) (3.0.1)\n",
      "Requirement already satisfied: MarkupSafe>=2.0 in /opt/anaconda3/lib/python3.12/site-packages (from Jinja2>=3.1.2->flask>=2.2.5->flask_sqlalchemy) (2.1.3)\n",
      "Downloading flask_sqlalchemy-3.1.1-py3-none-any.whl (25 kB)\n",
      "Installing collected packages: flask_sqlalchemy\n",
      "Successfully installed flask_sqlalchemy-3.1.1\n",
      "Note: you may need to restart the kernel to use updated packages.\n"
     ]
    }
   ],
   "source": [
    "pip install flask_sqlalchemy\n"
   ]
  },
  {
   "cell_type": "code",
   "execution_count": 35,
   "id": "87708fcd-c6b8-4335-88be-7a3f97475fd1",
   "metadata": {},
   "outputs": [],
   "source": [
    "#load libraries\n",
    "\n",
    "from flask import Flask, render_template, request, redirect, url_for, flash\n",
    "from flask_sqlalchemy import SQLAlchemy\n",
    "import pandas as pd\n",
    "import smtplib\n",
    "from email.mime.text import MIMEText\n",
    "from datetime import datetime, timedelta"
   ]
  },
  {
   "cell_type": "code",
   "execution_count": 39,
   "id": "fa1c14af-dc2c-4241-9e68-0ed145bf2498",
   "metadata": {},
   "outputs": [],
   "source": [
    "#configuration of the app\n",
    "app = Flask('COP1_du_13')\n",
    "app.config['SQLALCHEMY_DATABASE_URI'] = 'sqlite:///database.db'\n",
    "app.config['SQLALCHEMY_TRACK_MODIFICATIONS'] = False\n",
    "app.secret_key = 'supersecretkey'\n",
    "db = SQLAlchemy(app)"
   ]
  },
  {
   "cell_type": "code",
   "execution_count": 41,
   "id": "15f6fa36-5842-4935-a09d-16f5a5ff23c3",
   "metadata": {},
   "outputs": [],
   "source": [
    "# Baseline for \"volunteer=Benevole\"\n",
    "class Benevole(db.Model):\n",
    "    id = db.Column(db.Integer, primary_key=True)\n",
    "    nom = db.Column(db.String(100), nullable=False)\n",
    "    prenom = db.Column(db.String(100), nullable=False)\n",
    "    email = db.Column(db.String(100), unique=True, nullable=False)\n",
    "    telephone = db.Column(db.String(20), nullable=False)\n",
    "    instagram = db.Column(db.String(100), unique=True, nullable=True)"
   ]
  },
  {
   "cell_type": "code",
   "execution_count": 43,
   "id": "35c89d31-a545-44e6-99f1-3a77c7070ff5",
   "metadata": {},
   "outputs": [],
   "source": [
    "# Baseline for the \"task= mission\"\n",
    "class Mission(db.Model):\n",
    "    id = db.Column(db.Integer, primary_key=True)\n",
    "    titre = db.Column(db.String(100), nullable=False)\n",
    "    date = db.Column(db.String(20), nullable=False)\n",
    "    heure = db.Column(db.String(10), nullable=False)\n",
    "    nb_places = db.Column(db.Integer, nullable=False)"
   ]
  },
  {
   "cell_type": "code",
   "execution_count": 45,
   "id": "c86609d4-7307-4491-884e-327472fb06ae",
   "metadata": {},
   "outputs": [],
   "source": [
    "# Baseline of inscriptions (volunteer register for tasks)\n",
    "class Inscription(db.Model):\n",
    "    id = db.Column(db.Integer, primary_key=True)\n",
    "    benevole_id = db.Column(db.Integer, db.ForeignKey('benevole.id'), nullable=False)\n",
    "    mission_id = db.Column(db.Integer, db.ForeignKey('mission.id'), nullable=False)\n",
    "    date_inscription = db.Column(db.DateTime, default=datetime.utcnow)"
   ]
  },
  {
   "cell_type": "code",
   "execution_count": 47,
   "id": "b14301ae-9280-4c4e-83ed-e5fbb00ab882",
   "metadata": {},
   "outputs": [],
   "source": [
    "# Route pour afficher les bénévoles et leur engagement\n",
    "@app.route('/')\n",
    "def index():\n",
    "    benevoles = Benevole.query.all()\n",
    "    return render_template('benevoles.html', benevoles=benevoles)"
   ]
  },
  {
   "cell_type": "code",
   "execution_count": 49,
   "id": "bbdb79bb-d377-47d5-b9bb-35570db5b9c0",
   "metadata": {},
   "outputs": [],
   "source": [
    "# Route pour afficher les missions et permettre l'inscription\n",
    "@app.route('/missions')\n",
    "def missions():\n",
    "    missions = Mission.query.all()\n",
    "    return render_template('missions.html', missions=missions)\n"
   ]
  },
  {
   "cell_type": "code",
   "execution_count": 51,
   "id": "f0c7df67-4615-4b01-aeaa-46fb72d9afdd",
   "metadata": {},
   "outputs": [],
   "source": [
    "# Route pour inscrire un bénévole à une mission\n",
    "@app.route('/inscrire', methods=['POST'])\n",
    "def inscrire():\n",
    "    benevole_id = request.form['benevole_id']\n",
    "    mission_id = request.form['mission_id']\n",
    "\n",
    "    mission = Mission.query.get(mission_id)\n",
    "    if mission and mission.nb_places > 0:\n",
    "        inscription = Inscription(benevole_id=benevole_id, mission_id=mission_id)\n",
    "        db.session.add(inscription)\n",
    "        mission.nb_places -= 1\n",
    "        db.session.commit()\n",
    "        flash('✅ Inscription réussie !')\n",
    "    else:\n",
    "        flash('❌ Plus de place disponible pour cette mission.')\n",
    "\n",
    "    return redirect(url_for('missions'))"
   ]
  },
  {
   "cell_type": "code",
   "execution_count": 53,
   "id": "4029ddd2-4c1f-45c5-8d6b-b3af55e87cac",
   "metadata": {},
   "outputs": [],
   "source": [
    "# Route pour afficher le classement des bénévoles\n",
    "@app.route('/classement')\n",
    "def classement():\n",
    "    classement = db.session.query(Benevole.nom, Benevole.prenom, db.func.count(Inscription.id).label('nb_missions')) \\\n",
    "        .join(Inscription, Benevole.id == Inscription.benevole_id) \\\n",
    "        .group_by(Benevole.id) \\\n",
    "        .order_by(db.func.count(Inscription.id).desc()) \\\n",
    "        .all()\n",
    "    return render_template('classement.html', classement=classement)"
   ]
  },
  {
   "cell_type": "code",
   "execution_count": 22,
   "id": "08a201cd-3a48-4be5-afed-d9712c5868dd",
   "metadata": {},
   "outputs": [],
   "source": [
    "# Fonction pour envoyer une notification aux bénévoles inactifs\n",
    "def notifier_inactifs():\n",
    "    seuil = datetime.utcnow() - timedelta(days=90)\n",
    "    inactifs = db.session.query(Benevole).outerjoin(Inscription, Benevole.id == Inscription.benevole_id) \\\n",
    "        .filter((Inscription.date_inscription == None) | (Inscription.date_inscription < seuil)).all()\n",
    "\n",
    "    for benevole in inactifs:\n",
    "        envoyer_email(benevole.email, \"🌟 Rappel : Engagez-vous dans une mission !\",\n",
    "                      f\"Bonjour {benevole.prenom}, nous avons remarqué que vous n'avez pas participé à une mission récemment. \"\n",
    "                      \"Rejoignez une mission dès maintenant !\")"
   ]
  },
  {
   "cell_type": "code",
   "execution_count": 55,
   "id": "63e5001c-4000-4a01-983d-301193043ecd",
   "metadata": {},
   "outputs": [
    {
     "name": "stdout",
     "output_type": "stream",
     "text": [
      " * Serving Flask app 'COP1_du_13'\n",
      " * Debug mode: on\n"
     ]
    },
    {
     "name": "stderr",
     "output_type": "stream",
     "text": [
      "WARNING: This is a development server. Do not use it in a production deployment. Use a production WSGI server instead.\n",
      " * Running on http://127.0.0.1:5000\n",
      "Press CTRL+C to quit\n",
      " * Restarting with watchdog (fsevents)\n",
      "0.00s - Debugger warning: It seems that frozen modules are being used, which may\n",
      "0.00s - make the debugger miss breakpoints. Please pass -Xfrozen_modules=off\n",
      "0.00s - to python to disable frozen modules.\n",
      "0.00s - Note: Debugging will proceed. Set PYDEVD_DISABLE_FILE_VALIDATION=1 to disable this validation.\n",
      "Traceback (most recent call last):\n",
      "  File \"<frozen runpy>\", line 198, in _run_module_as_main\n",
      "  File \"<frozen runpy>\", line 88, in _run_code\n",
      "  File \"/opt/anaconda3/lib/python3.12/site-packages/ipykernel_launcher.py\", line 17, in <module>\n",
      "    app.launch_new_instance()\n",
      "  File \"/opt/anaconda3/lib/python3.12/site-packages/traitlets/config/application.py\", line 1074, in launch_instance\n",
      "    app.initialize(argv)\n",
      "  File \"/opt/anaconda3/lib/python3.12/site-packages/traitlets/config/application.py\", line 118, in inner\n",
      "    return method(app, *args, **kwargs)\n",
      "           ^^^^^^^^^^^^^^^^^^^^^^^^^^^^\n",
      "  File \"/opt/anaconda3/lib/python3.12/site-packages/ipykernel/kernelapp.py\", line 654, in initialize\n",
      "    self.init_sockets()\n",
      "  File \"/opt/anaconda3/lib/python3.12/site-packages/ipykernel/kernelapp.py\", line 331, in init_sockets\n",
      "    self.shell_port = self._bind_socket(self.shell_socket, self.shell_port)\n",
      "                      ^^^^^^^^^^^^^^^^^^^^^^^^^^^^^^^^^^^^^^^^^^^^^^^^^^^^^\n",
      "  File \"/opt/anaconda3/lib/python3.12/site-packages/ipykernel/kernelapp.py\", line 253, in _bind_socket\n",
      "    return self._try_bind_socket(s, port)\n",
      "           ^^^^^^^^^^^^^^^^^^^^^^^^^^^^^^\n",
      "  File \"/opt/anaconda3/lib/python3.12/site-packages/ipykernel/kernelapp.py\", line 229, in _try_bind_socket\n",
      "    s.bind(\"tcp://%s:%i\" % (self.ip, port))\n",
      "  File \"/opt/anaconda3/lib/python3.12/site-packages/zmq/sugar/socket.py\", line 302, in bind\n",
      "    super().bind(addr)\n",
      "  File \"zmq/backend/cython/socket.pyx\", line 564, in zmq.backend.cython.socket.Socket.bind\n",
      "  File \"zmq/backend/cython/checkrc.pxd\", line 28, in zmq.backend.cython.checkrc._check_rc\n",
      "zmq.error.ZMQError: Address already in use (addr='tcp://127.0.0.1:55212')\n"
     ]
    },
    {
     "ename": "SystemExit",
     "evalue": "1",
     "output_type": "error",
     "traceback": [
      "An exception has occurred, use %tb to see the full traceback.\n",
      "\u001b[0;31mSystemExit\u001b[0m\u001b[0;31m:\u001b[0m 1\n"
     ]
    },
    {
     "name": "stderr",
     "output_type": "stream",
     "text": [
      "/opt/anaconda3/lib/python3.12/site-packages/IPython/core/interactiveshell.py:3585: UserWarning: To exit: use 'exit', 'quit', or Ctrl-D.\n",
      "  warn(\"To exit: use 'exit', 'quit', or Ctrl-D.\", stacklevel=1)\n"
     ]
    }
   ],
   "source": [
    "# Fonction d'envoi d'email\n",
    "def envoyer_email(destinataire, sujet, message):\n",
    "    expediteur = \"tonemail@gmail.com\"\n",
    "    mot_de_passe = \"motdepasse\"\n",
    "    msg = MIMEText(message)\n",
    "    msg[\"Subject\"] = sujet\n",
    "    msg[\"From\"] = expediteur\n",
    "    msg[\"To\"] = destinataire\n",
    "\n",
    "    try:\n",
    "        server = smtplib.SMTP_SSL(\"smtp.gmail.com\", 465)\n",
    "        server.login(expediteur, mot_de_passe)\n",
    "        server.sendmail(expediteur, destinataire, msg.as_string())\n",
    "        server.quit()\n",
    "        print(f\"📧 Email envoyé à {destinataire}\")\n",
    "    except Exception as e:\n",
    "        print(f\"⚠️ Erreur lors de l'envoi de l'email : {e}\")\n",
    "\n",
    "if __name__ == '__main__':\n",
    "    with app.app_context():\n",
    "        db.create_all()\n",
    "    app.run(debug=True)\n"
   ]
  },
  {
   "cell_type": "code",
   "execution_count": null,
   "id": "4147c9be-92c5-42c5-b967-2c416db4c37e",
   "metadata": {},
   "outputs": [],
   "source": []
  }
 ],
 "metadata": {
  "kernelspec": {
   "display_name": "Python [conda env:base] *",
   "language": "python",
   "name": "conda-base-py"
  },
  "language_info": {
   "codemirror_mode": {
    "name": "ipython",
    "version": 3
   },
   "file_extension": ".py",
   "mimetype": "text/x-python",
   "name": "python",
   "nbconvert_exporter": "python",
   "pygments_lexer": "ipython3",
   "version": "3.12.7"
  }
 },
 "nbformat": 4,
 "nbformat_minor": 5
}
