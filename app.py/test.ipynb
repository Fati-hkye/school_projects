{
 "cells": [
  {
   "cell_type": "code",
   "execution_count": 63,
   "id": "df51d4b3-9cf2-46bb-86d7-b1c2e4f72510",
   "metadata": {},
   "outputs": [
    {
     "name": "stdout",
     "output_type": "stream",
     "text": [
      "Requirement already satisfied: flask in /opt/anaconda3/lib/python3.12/site-packages (3.0.3)\n",
      "Requirement already satisfied: flask-sqlalchemy in /opt/anaconda3/lib/python3.12/site-packages (3.1.1)\n",
      "Collecting flask-migrate\n",
      "  Downloading Flask_Migrate-4.1.0-py3-none-any.whl.metadata (3.3 kB)\n",
      "Collecting flask-mail\n",
      "  Downloading flask_mail-0.10.0-py3-none-any.whl.metadata (2.1 kB)\n",
      "Requirement already satisfied: pandas in /opt/anaconda3/lib/python3.12/site-packages (2.2.2)\n",
      "Requirement already satisfied: openpyxl in /opt/anaconda3/lib/python3.12/site-packages (3.1.5)\n",
      "Requirement already satisfied: Werkzeug>=3.0.0 in /opt/anaconda3/lib/python3.12/site-packages (from flask) (3.0.3)\n",
      "Requirement already satisfied: Jinja2>=3.1.2 in /opt/anaconda3/lib/python3.12/site-packages (from flask) (3.1.4)\n",
      "Requirement already satisfied: itsdangerous>=2.1.2 in /opt/anaconda3/lib/python3.12/site-packages (from flask) (2.2.0)\n",
      "Requirement already satisfied: click>=8.1.3 in /opt/anaconda3/lib/python3.12/site-packages (from flask) (8.1.7)\n",
      "Requirement already satisfied: blinker>=1.6.2 in /opt/anaconda3/lib/python3.12/site-packages (from flask) (1.6.2)\n",
      "Requirement already satisfied: sqlalchemy>=2.0.16 in /opt/anaconda3/lib/python3.12/site-packages (from flask-sqlalchemy) (2.0.34)\n",
      "Requirement already satisfied: alembic>=1.9.0 in /opt/anaconda3/lib/python3.12/site-packages (from flask-migrate) (1.13.3)\n",
      "Requirement already satisfied: numpy>=1.26.0 in /opt/anaconda3/lib/python3.12/site-packages (from pandas) (1.26.4)\n",
      "Requirement already satisfied: python-dateutil>=2.8.2 in /opt/anaconda3/lib/python3.12/site-packages (from pandas) (2.9.0.post0)\n",
      "Requirement already satisfied: pytz>=2020.1 in /opt/anaconda3/lib/python3.12/site-packages (from pandas) (2024.1)\n",
      "Requirement already satisfied: tzdata>=2022.7 in /opt/anaconda3/lib/python3.12/site-packages (from pandas) (2023.3)\n",
      "Requirement already satisfied: et-xmlfile in /opt/anaconda3/lib/python3.12/site-packages (from openpyxl) (1.1.0)\n",
      "Requirement already satisfied: Mako in /opt/anaconda3/lib/python3.12/site-packages (from alembic>=1.9.0->flask-migrate) (1.2.3)\n",
      "Requirement already satisfied: typing-extensions>=4 in /opt/anaconda3/lib/python3.12/site-packages (from alembic>=1.9.0->flask-migrate) (4.11.0)\n",
      "Requirement already satisfied: MarkupSafe>=2.0 in /opt/anaconda3/lib/python3.12/site-packages (from Jinja2>=3.1.2->flask) (2.1.3)\n",
      "Requirement already satisfied: six>=1.5 in /opt/anaconda3/lib/python3.12/site-packages (from python-dateutil>=2.8.2->pandas) (1.16.0)\n",
      "Requirement already satisfied: greenlet!=0.4.17 in /opt/anaconda3/lib/python3.12/site-packages (from sqlalchemy>=2.0.16->flask-sqlalchemy) (3.0.1)\n",
      "Downloading Flask_Migrate-4.1.0-py3-none-any.whl (21 kB)\n",
      "Downloading flask_mail-0.10.0-py3-none-any.whl (8.5 kB)\n",
      "Installing collected packages: flask-mail, flask-migrate\n",
      "Successfully installed flask-mail-0.10.0 flask-migrate-4.1.0\n",
      "Note: you may need to restart the kernel to use updated packages.\n"
     ]
    }
   ],
   "source": [
    "pip install flask flask-sqlalchemy flask-migrate flask-mail pandas openpyxl\n"
   ]
  },
  {
   "cell_type": "code",
   "execution_count": 65,
   "id": "b4aef1c6-6b7d-4646-b4b2-eb9906ee8eb7",
   "metadata": {},
   "outputs": [],
   "source": [
    "###Configuration de Flask et SQLAlchemy\n",
    "\n",
    "from flask import Flask, render_template, request, redirect, url_for, flash\n",
    "from flask_sqlalchemy import SQLAlchemy\n",
    "from flask_mail import Mail, Message\n",
    "import pandas as pd\n",
    "import datetime\n",
    "\n",
    "app = Flask(__name__)\n",
    "\n",
    "# Configuration of the SQlite database \n",
    "app.config['SQLALCHEMY_DATABASE_URI'] = 'sqlite:///database.db'\n",
    "app.config['SQLALCHEMY_TRACK_MODIFICATIONS'] = False\n",
    "app.secret_key = 'supersecretkey'\n",
    "\n",
    "# Configuration of mails (e.i Gmail)\n",
    "app.config['MAIL_SERVER'] = 'smtp.gmail.com'\n",
    "app.config['MAIL_PORT'] = 587\n",
    "app.config['MAIL_USE_TLS'] = True\n",
    "app.config['MAIL_USERNAME'] = 'ton_email@gmail.com'\n",
    "app.config['MAIL_PASSWORD'] = 'ton_mot_de_passe'\n",
    "\n",
    "db = SQLAlchemy(app)\n",
    "mail = Mail(app)\n"
   ]
  },
  {
   "cell_type": "code",
   "execution_count": 67,
   "id": "09371f29-dadb-46c3-a0c0-4a02fe4fe481",
   "metadata": {},
   "outputs": [],
   "source": [
    "### model of data base, adding: benevolence/volunteer , Mission/task , Inscription/register with a following of the activities they are doing\n",
    "\n",
    "class Benevole(db.Model):\n",
    "    id = db.Column(db.Integer, primary_key=True)\n",
    "    nom = db.Column(db.String(100), nullable=False)\n",
    "    prenom = db.Column(db.String(100), nullable=False)\n",
    "    email = db.Column(db.String(100), unique=True, nullable=False)\n",
    "    telephone = db.Column(db.String(20), nullable=False)\n",
    "    dernieres_activites = db.Column(db.DateTime, default=datetime.datetime.utcnow)\n",
    "\n",
    "    inscriptions = db.relationship('Inscription', backref='benevole', lazy=True)\n",
    "\n",
    "class Mission(db.Model):\n",
    "    id = db.Column(db.Integer, primary_key=True)\n",
    "    nom = db.Column(db.String(100), nullable=False)\n",
    "    description = db.Column(db.Text, nullable=False)\n",
    "    nb_places = db.Column(db.Integer, nullable=False)\n",
    "\n",
    "    inscriptions = db.relationship('Inscription', backref='mission', lazy=True)\n",
    "\n",
    "class Inscription(db.Model):\n",
    "    id = db.Column(db.Integer, primary_key=True)\n",
    "    benevole_id = db.Column(db.Integer, db.ForeignKey('benevole.id'), nullable=False)\n",
    "    mission_id = db.Column(db.Integer, db.ForeignKey('mission.id'), nullable=False)\n",
    "    date_inscription = db.Column(db.DateTime, default=datetime.datetime.utcnow)\n"
   ]
  },
  {
   "cell_type": "code",
   "execution_count": null,
   "id": "86735be8-472f-4c29-9e97-dac9d9712ba4",
   "metadata": {},
   "outputs": [],
   "source": [
    "import os\n",
    "from werkzeug.utils import secure_filename\n",
    "\n",
    "UPLOAD_FOLDER = 'uploads'\n",
    "app.config['UPLOAD_FOLDER'] = UPLOAD_FOLDER\n",
    "\n",
    "@app.route('/upload', methods=['GET', 'POST'])\n",
    "def upload_file():\n",
    "    if request.method == 'POST':\n",
    "        file = request.files['file']\n",
    "        if file.filename.endswith('.xlsx'):\n",
    "            filename = secure_filename(file.filename)\n",
    "            filepath = os.path.join(app.config['UPLOAD_FOLDER'], filename)\n",
    "            file.save(filepath)\n",
    "            importer_benevoles(filepath)\n",
    "            flash('Données importées avec succès !', 'success')\n",
    "        else:\n",
    "            flash('Format invalide. Veuillez uploader un fichier .xlsx', 'danger')\n",
    "\n",
    "    return render_template('upload.html')\n",
    "\n",
    "def importer_benevoles(filepath):\n",
    "    df = pd.read_excel(filepath)\n",
    "    for _, row in df.iterrows():\n",
    "        benevole = Benevole(\n",
    "            nom=row['Nom'], prenom=row['Prenom'], email=row['Email'], telephone=row['Telephone']\n",
    "        )\n",
    "        db.session.add(benevole)\n",
    "    db.session.commit()\n"
   ]
  }
 ],
 "metadata": {
  "kernelspec": {
   "display_name": "Python [conda env:base] *",
   "language": "python",
   "name": "conda-base-py"
  },
  "language_info": {
   "codemirror_mode": {
    "name": "ipython",
    "version": 3
   },
   "file_extension": ".py",
   "mimetype": "text/x-python",
   "name": "python",
   "nbconvert_exporter": "python",
   "pygments_lexer": "ipython3",
   "version": "3.12.7"
  }
 },
 "nbformat": 4,
 "nbformat_minor": 5
}
