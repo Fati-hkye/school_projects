{
  "nbformat": 4,
  "nbformat_minor": 0,
  "metadata": {
    "colab": {
      "provenance": []
    },
    "kernelspec": {
      "name": "python3",
      "display_name": "Python 3"
    },
    "language_info": {
      "name": "python"
    }
  },
  "cells": [
    {
      "cell_type": "markdown",
      "source": [
        "# Exercise 1: Single Neuron Implementation\n",
        "\n",
        "## 1.1 Objective\n",
        "Implement a single artificial neuron and understand its components: weights,\n",
        "bias, and activation function.\n",
        "\n",
        "##1.2 Dataset"
      ],
      "metadata": {
        "id": "-jOSKAhNbnbS"
      }
    },
    {
      "cell_type": "code",
      "execution_count": null,
      "metadata": {
        "colab": {
          "base_uri": "https://localhost:8080/"
        },
        "id": "GEhcJkiObXYr",
        "outputId": "042ddcb7-b795-44be-b29a-1aef4e5bcc7d"
      },
      "outputs": [
        {
          "output_type": "stream",
          "name": "stdout",
          "text": [
            "[[ 2.24835708  1.93086785]\n",
            " [ 2.32384427  2.76151493]\n",
            " [ 1.88292331  1.88293152]\n",
            " [ 2.78960641  2.38371736]\n",
            " [ 1.76526281  2.27128002]\n",
            " [ 1.76829115  1.76713512]\n",
            " [ 2.12098114  1.04335988]\n",
            " [ 1.13754108  1.71885624]\n",
            " [ 1.49358444  2.15712367]\n",
            " [ 1.54598796  1.29384815]\n",
            " [ 2.73282438  1.88711185]\n",
            " [ 2.0337641   1.28762591]\n",
            " [ 1.72780864  2.05546129]\n",
            " [ 1.42450321  2.18784901]\n",
            " [ 1.69968066  1.85415313]\n",
            " [ 1.69914669  2.92613909]\n",
            " [ 1.99325139  1.47114454]\n",
            " [ 2.41127246  1.38957818]\n",
            " [ 2.1044318   1.02016494]\n",
            " [ 1.33590698  2.09843062]\n",
            " [ 2.36923329  2.08568414]\n",
            " [ 1.94217586  1.84944815]\n",
            " [ 1.260739    1.6400779 ]\n",
            " [ 1.76968061  2.52856111]\n",
            " [ 2.17180914  1.11847992]\n",
            " [ 2.16204198  1.80745886]\n",
            " [ 1.661539    2.30583814]\n",
            " [ 2.51549976  2.46564006]\n",
            " [ 1.58039124  1.84539381]\n",
            " [ 2.16563172  2.48777256]\n",
            " [ 1.76041288  1.90717051]\n",
            " [ 1.44683251  1.40189669]\n",
            " [ 2.40626291  2.67812001]\n",
            " [ 1.96399494  2.50176645]\n",
            " [ 2.18081801  1.67744012]\n",
            " [ 2.1806978   2.76901828]\n",
            " [ 1.98208698  2.78232183]\n",
            " [ 0.69012745  2.41095125]\n",
            " [ 2.04352353  1.85049632]\n",
            " [ 2.04588039  1.00621554]\n",
            " [ 1.89016406  2.17855629]\n",
            " [ 2.73894702  1.74086489]\n",
            " [ 1.5957532   1.74912148]\n",
            " [ 2.45770106  2.16437555]\n",
            " [ 1.7351199   2.25663372]\n",
            " [ 2.04853877  2.4843225 ]\n",
            " [ 1.64897345  1.83616893]\n",
            " [ 1.80394592  1.26824253]\n",
            " [ 2.14806014  2.13052764]\n",
            " [ 2.00255673  1.88270643]\n",
            " [-2.70768537 -2.21032266]\n",
            " [-2.17135726 -2.40113863]\n",
            " [-2.08064286 -1.79797457]\n",
            " [-1.05690705 -1.91271109]\n",
            " [-1.8712248  -2.03722296]\n",
            " [-2.95938561 -2.01325694]\n",
            " [-1.9698849  -0.76837894]\n",
            " [-2.09618048 -1.84922633]\n",
            " [-2.01735588 -2.58433902]\n",
            " [-1.42858859 -1.62403348]\n",
            " [-1.60448403 -2.45469373]\n",
            " [-1.29860284 -2.70092553]\n",
            " [-1.70657145 -0.90477219]\n",
            " [-2.49526816 -2.28314886]\n",
            " [-1.95017432 -2.25173783]\n",
            " [-2.77533172 -1.96571851]\n",
            " [-2.53115186 -1.76320378]\n",
            " [-2.45971212 -1.2250328 ]\n",
            " [-2.39162665 -2.16103076]\n",
            " [-1.59324139 -2.61543216]\n",
            " [-1.88627003 -1.34642862]\n",
            " [-2.80374162 -1.90768307]\n",
            " [-1.8700586  -1.60908856]\n",
            " [-2.61847536 -2.66022831]\n",
            " [-1.73902922 -1.85150766]\n",
            " [-1.87475357 -1.8267759 ]\n",
            " [-2.34001236 -1.88387315]\n",
            " [-1.85346376 -2.35717571]\n",
            " [-1.06711274 -1.76308354]\n",
            " [-2.59565175 -1.6717232 ]\n",
            " [-2.48734084 -1.6064577 ]\n",
            " [-1.42070221 -2.41034116]\n",
            " [-1.51831194 -1.79360954]\n",
            " [-1.58896992 -1.05160351]\n",
            " [-2.12269406 -2.37686808]\n",
            " [-2.44475721 -2.40790514]\n",
            " [-2.03855085 -1.82942401]\n",
            " [-1.8616546  -1.58640838]\n",
            " [-1.99349905 -1.27323296]\n",
            " [-2.13232842 -0.63991542]\n",
            " [-1.68716633 -2.42857878]\n",
            " [-2.53544625 -1.75876379]\n",
            " [-2.11173139 -1.64299975]\n",
            " [-1.76338119 -2.03641446]\n",
            " [-2.42339686 -2.75742361]\n",
            " [-2.22325748 -1.5718006 ]\n",
            " [-1.89295313 -2.62286939]\n",
            " [-1.91340954 -1.80734131]\n",
            " [-2.44192872 -1.92313745]\n",
            " [-1.97089564 -2.57148515]]\n",
            "[0. 0. 0. 0. 0. 0. 0. 0. 0. 0. 0. 0. 0. 0. 0. 0. 0. 0. 0. 0. 0. 0. 0. 0.\n",
            " 0. 0. 0. 0. 0. 0. 0. 0. 0. 0. 0. 0. 0. 0. 0. 0. 0. 0. 0. 0. 0. 0. 0. 0.\n",
            " 0. 0. 1. 1. 1. 1. 1. 1. 1. 1. 1. 1. 1. 1. 1. 1. 1. 1. 1. 1. 1. 1. 1. 1.\n",
            " 1. 1. 1. 1. 1. 1. 1. 1. 1. 1. 1. 1. 1. 1. 1. 1. 1. 1. 1. 1. 1. 1. 1. 1.\n",
            " 1. 1. 1. 1.]\n"
          ]
        }
      ],
      "source": [
        "#Loading libraries\n",
        "\n",
        "import pandas as pd\n",
        "import numpy as np\n",
        "\n",
        "#loading data\n",
        "np.random.seed(42)\n",
        "n_samples = 100\n",
        "#Loading libraries\n",
        "\n",
        "import pandas as pd\n",
        "import numpy as np\n",
        "\n",
        "#loading data\n",
        "np.random.seed(42)\n",
        "n_samples = 100\n",
        "\n",
        "#generate two class of point\n",
        "class1 = np.random.normal(loc=[2, 2], scale=0.5, size=(n_samples//2, 2))\n",
        "class2 = np.random.normal(loc=[-2, -2], scale=0.5, size=(n_samples//2, 2))\n",
        "\n",
        "#combine data\n",
        "x= np.vstack((class1 , class2))\n",
        "y = np.hstack((np.zeros(n_samples//2) , np.ones(n_samples//2)))\n",
        "\n",
        "#print data\n",
        "print(x)\n",
        "print(y)"
      ]
    },
    {
      "cell_type": "markdown",
      "source": [
        "## 1.3 Tasks\n",
        "\n",
        "### 1. Neuron Implementation\n",
        "\n",
        "- Implement weight initialization\n",
        "- Add bias term\n",
        "- Implement sigmoid activation function\n",
        "- Create forward propagation method"
      ],
      "metadata": {
        "id": "a171BamdvHez"
      }
    },
    {
      "cell_type": "code",
      "source": [
        "#implementationn weight initialization\n",
        "#library\n",
        "#polars\n",
        "#duchkdibi\n",
        "#firedocks\n",
        "\n",
        "import numpy as np\n",
        "\n",
        "class Neuron:\n",
        "    def __init__(self, input_size):\n",
        "        # Initialize weights and bias\n",
        "        self.weights = np.random.randn(input_size)\n",
        "        self.bias = np.random.randn()\n",
        "\n",
        "    def sigmoid(self, z):\n",
        "        # Sigmoid activation function\n",
        "        return 1 / (1 + np.exp(-z))\n",
        "\n",
        "    def forward(self, x):\n",
        "        # Compute weighted sum\n",
        "        z = np.dot(x, self.weights) + self.bias\n",
        "        # Apply activation function\n",
        "        return self.sigmoid(z)\n",
        "\n",
        "# Example usage\n",
        "input_size = 2  # Each data point has 2 features\n",
        "neuron = Neuron(input_size)\n",
        "\n",
        "# Test forward propagation with a sample input\n",
        "sample_input = np.array([2, 2])\n",
        "output = neuron.forward(sample_input)\n",
        "\n",
        "print(\"Neuron Output:\", output)\n"
      ],
      "metadata": {
        "colab": {
          "base_uri": "https://localhost:8080/"
        },
        "id": "XL4hPk51x_V5",
        "outputId": "71d24c3a-fd42-423f-c152-ff11f9190de4"
      },
      "execution_count": null,
      "outputs": [
        {
          "output_type": "stream",
          "name": "stdout",
          "text": [
            "Neuron Output: 0.7021766922387682\n"
          ]
        }
      ]
    },
    {
      "cell_type": "markdown",
      "source": [
        " I implemented a simple artificial neuron with the following key components:  \n",
        "\n",
        "1. **Weight Initialization** : The neuron starts with **random weights** that determine how much influence each input feature has.  \n",
        "2. **Bias Term** : A bias is added to shift the decision boundary and improve flexibility.  \n",
        "3. **Sigmoid Activation Function** : This function ensures the output is between **0 and 1**, making it interpretable as a probability.  \n",
        "4. **Forward Propagation** : The neuron computes the weighted sum of inputs, adds the bias, applies the sigmoid function, and produces the final output.  \n",
        "\n",
        "For a given input **[2,2]**, the neuron produced an output of **0.807**, meaning:  \n",
        "- The neuron is **strongly activated**, indicating high confidence that the input belongs to class **1**.  \n",
        "- If used in classification, a threshold (e.g., 0.5) would classify this input as **positive (class 1)**.  \n",
        "\n",
        "This implementation lays the foundation for **deeper networks** by understanding how individual neurons process and classify data."
      ],
      "metadata": {
        "id": "wegntgKC2mmC"
      }
    },
    {
      "cell_type": "markdown",
      "source": [
        "### 2. Training Implementation\n",
        "\n",
        "- Calculate prediction error\n",
        "- Implement gradient descent\n",
        "- Update weights and bias\n",
        "- Track learning progress"
      ],
      "metadata": {
        "id": "09ttKP7jvdhK"
      }
    },
    {
      "cell_type": "code",
      "source": [
        "import numpy as np\n",
        "import matplotlib.pyplot as plt\n",
        "\n",
        "# Sigmoid activation function\n",
        "def sigmoid(z):\n",
        "    return 1 / (1 + np.exp(-z))\n",
        "\n",
        "# Derivative of sigmoid (for backpropagation)\n",
        "def sigmoid_derivative(z):\n",
        "    return sigmoid(z) * (1 - sigmoid(z))\n",
        "\n",
        "# Initialize weights and bias\n",
        "np.random.seed(42)\n",
        "n_features = 2  # Since our input data has two features\n",
        "weights = np.random.randn(n_features)\n",
        "bias = np.random.randn()\n",
        "learning_rate = 0.1\n",
        "epochs = 1000  # Number of training iterations\n",
        "\n",
        "# Initialize loss_history to store loss values\n",
        "loss_history = []  # Create an empty list to store loss values\n",
        "\n",
        "# Training process\n",
        "for epoch in range(epochs):\n",
        "    # Forward propagation\n",
        "    z = np.dot(x, weights) + bias  # Linear combination\n",
        "    predictions = sigmoid(z)  # Activation function\n",
        "\n",
        "    # Compute error (binary cross-entropy loss derivative)\n",
        "    error = predictions - y  # Difference between predicted and actual values\n",
        "\n",
        "    # Compute gradients\n",
        "    dw = np.dot(x.T, error) / len(y)  # Gradient of weights\n",
        "    db = np.sum(error) / len(y)  # Gradient of bias\n",
        "\n",
        "    # Update weights and bias\n",
        "    weights -= learning_rate * dw\n",
        "    bias -= learning_rate * db\n",
        "\n",
        "    # Track learning progress\n",
        "    if epoch % 100 == 0:\n",
        "        loss = -np.mean(y * np.log(predictions) + (1 - y) * np.log(1 - predictions))\n",
        "        loss_history.append(loss)  # Append the loss value to the list\n",
        "        print(f'Epoch {epoch}: Loss = {loss:.4f}')\n",
        "\n",
        "# Final neuron output after training\n",
        "final_output = sigmoid(np.dot(x, weights) + bias)\n",
        "print(\"Final Neuron Output Example:\", final_output[:5])  # Show first 5 predictions\n"
      ],
      "metadata": {
        "colab": {
          "base_uri": "https://localhost:8080/"
        },
        "id": "9Vq6R04-75an",
        "outputId": "b5c7be1b-e45f-45eb-a785-96e70a506a6f"
      },
      "execution_count": null,
      "outputs": [
        {
          "output_type": "stream",
          "name": "stdout",
          "text": [
            "Epoch 0: Loss = 1.1626\n",
            "Epoch 100: Loss = 0.0164\n",
            "Epoch 200: Loss = 0.0084\n",
            "Epoch 300: Loss = 0.0056\n",
            "Epoch 400: Loss = 0.0043\n",
            "Epoch 500: Loss = 0.0035\n",
            "Epoch 600: Loss = 0.0029\n",
            "Epoch 700: Loss = 0.0025\n",
            "Epoch 800: Loss = 0.0022\n",
            "Epoch 900: Loss = 0.0020\n",
            "Final Neuron Output Example: [0.00077548 0.00012909 0.00151804 0.00013273 0.00083572]\n"
          ]
        }
      ]
    },
    {
      "cell_type": "markdown",
      "source": [
        "Weight Initialization & Bias:\n",
        "The neuron’s weights and bias were initialized randomly.\n",
        "Forward Propagation:\n",
        "Inputs were processed using a sigmoid activation function to generate predictions.\n",
        "Error Calculation & Gradient Descent:\n",
        "The loss function (likely binary cross-entropy) was computed.\n",
        "Gradients were calculated to update the weights and bias using gradient descent.\n",
        "Training Progress:\n",
        "The loss decreased steadily from 1.1626 to 0.0020, proving successful learning.\n",
        "The final neuron outputs showed clear class separation, meaning the model learned to classify effectively.\n",
        "Overall, this demonstrates the power of a simple perceptron in a classification task!"
      ],
      "metadata": {
        "id": "0-x3rscY_Zv2"
      }
    },
    {
      "cell_type": "markdown",
      "source": [
        "### 3. Analysis\n",
        "\n",
        "- Visualize decision boundary\n",
        "- Plot learning curve\n",
        "- Test with different learning rates"
      ],
      "metadata": {
        "id": "VDJB_VZXvmSJ"
      }
    },
    {
      "cell_type": "code",
      "source": [
        "import matplotlib.pyplot as plt\n",
        "import numpy as np\n",
        "\n",
        "# Function to plot decision boundary\n",
        "def plot_decision_boundary(X, y, weights, bias):\n",
        "    x_min, x_max = X[:, 0].min() - 1, X[:, 0].max() + 1\n",
        "    y_min, y_max = X[:, 1].min() - 1, X[:, 1].max() + 1\n",
        "    xx, yy = np.meshgrid(np.linspace(x_min, x_max, 100),\n",
        "                         np.linspace(y_min, y_max, 100))\n",
        "\n",
        "    Z = sigmoid(weights[0] * xx + weights[1] * yy + bias)\n",
        "    Z = Z.reshape(xx.shape)\n",
        "\n",
        "    plt.contourf(xx, yy, Z, levels=[0, 0.5, 1], alpha=0.3, cmap=\"coolwarm\")\n",
        "    plt.scatter(X[:, 0], X[:, 1], c=y, cmap=\"bwr\", edgecolors='k')\n",
        "    plt.title(\"Decision Boundary of the Neuron\")\n",
        "    plt.xlabel(\"Feature 1\")\n",
        "    plt.ylabel(\"Feature 2\")\n",
        "    plt.show()\n",
        "\n",
        "# Call function after training (pass final weights and bias)\n",
        "plot_decision_boundary(x, y, weights, bias)\n"
      ],
      "metadata": {
        "colab": {
          "base_uri": "https://localhost:8080/",
          "height": 472
        },
        "id": "NSUEETsoAWFZ",
        "outputId": "d7cd7243-403b-4f13-92d2-c7462ebcc40e"
      },
      "execution_count": null,
      "outputs": [
        {
          "output_type": "display_data",
          "data": {
            "text/plain": [
              "<Figure size 640x480 with 1 Axes>"
            ],
            "image/png": "[encoded data removed]"
          },
          "metadata": {}
        }
      ]
    },
    {
      "cell_type": "code",
      "source": [
        "# Plot learning curve (after training loop)\n",
        "plt.plot(range(len(loss_history)), loss_history, label=\"Loss\")\n",
        "plt.xlabel(\"Epochs\")\n",
        "plt.ylabel(\"Loss\")\n",
        "plt.title(\"Learning Curve\")\n",
        "plt.legend()\n",
        "plt.grid()\n",
        "plt.show()\n"
      ],
      "metadata": {
        "colab": {
          "base_uri": "https://localhost:8080/",
          "height": 472
        },
        "id": "W9K7O-gc_swa",
        "outputId": "99a4604c-4d4a-4e66-8f52-d5c54127ea0d"
      },
      "execution_count": null,
      "outputs": [
        {
          "output_type": "display_data",
          "data": {
            "text/plain": [
              "<Figure size 640x480 with 1 Axes>"
            ],
            "image/png": "[encoded data removed]"
          },
          "metadata": {}
        }
      ]
    },
    {
      "cell_type": "code",
      "source": [
        "#testin different  learnninng states\n",
        "\n",
        "learning_rates = [1.0, 0.1, 0.01, 0.001, 0.0001]\n",
        "loss_curves = {}\n",
        "\n",
        "for lr in learning_rates:\n",
        "    weights = np.random.randn(2)\n",
        "    bias = np.random.randn()\n",
        "    loss_history = []\n",
        "\n",
        "    for epoch in range(500):\n",
        "        linear_output = np.dot(x, weights) + bias\n",
        "        predictions = sigmoid(linear_output)\n",
        "\n",
        "        # Compute loss\n",
        "        loss = np.mean(-(y * np.log(predictions) + (1 - y) * np.log(1 - predictions)))\n",
        "        loss_history.append(loss)\n",
        "\n",
        "        # Compute gradients\n",
        "        dw = np.dot(x.T, (predictions - y)) / len(y)\n",
        "        db = np.mean(predictions - y)\n",
        "\n",
        "        # Update weights\n",
        "        weights -= lr * dw\n",
        "        bias -= lr * db\n",
        "\n",
        "    loss_curves[lr] = loss_history\n",
        "\n",
        "# Plot results for different learning rates\n",
        "plt.figure(figsize=(10,6))\n",
        "for lr, loss_hist in loss_curves.items():\n",
        "    plt.plot(loss_hist, label=f\"lr={lr}\")\n",
        "\n",
        "plt.xlabel(\"Epochs\")\n",
        "plt.ylabel(\"Loss\")\n",
        "plt.title(\"Effect of Learning Rate on Convergence\")\n",
        "plt.legend()\n",
        "plt.grid()\n",
        "plt.show()"
      ],
      "metadata": {
        "colab": {
          "base_uri": "https://localhost:8080/",
          "height": 564
        },
        "id": "0E88q0nsAhbC",
        "outputId": "75eb83fa-8999-4751-9d63-0893a7a50272"
      },
      "execution_count": null,
      "outputs": [
        {
          "output_type": "display_data",
          "data": {
            "text/plain": [
              "<Figure size 1000x600 with 1 Axes>"
            ],
            "image/png": "[encoded data removed]"
          },
          "metadata": {}
        }
      ]
    },
    {
      "cell_type": "markdown",
      "source": [
        "## Conclusion:"
      ],
      "metadata": {
        "id": "Dd18gEUWvuqC"
      }
    },
    {
      "cell_type": "markdown",
      "source": [
        "# Exercise 2 : Multilayer Perceptron\n",
        "\n",
        "## 2.1 Objective\n",
        "\n",
        "Build a complete multilayer perceptron for solving the XOR problem.\n",
        "\n"
      ],
      "metadata": {
        "id": "4B4Wh47Vdv3f"
      }
    },
    {
      "cell_type": "markdown",
      "source": [
        "## 2.2 Dataset"
      ],
      "metadata": {
        "id": "k3oK_lCNe4x-"
      }
    },
    {
      "cell_type": "code",
      "source": [
        "import numpy as np # Import the numpy library and assign it the alias 'np'\n",
        "\n",
        "# XOR problem dataset\n",
        "X = np.array([[0, 0], [0, 1], [1, 0], [1, 1]])\n",
        "y = np.array([[0], [1], [1], [0]])\n",
        "# Create network architecture\n",
        "input_size = 2\n",
        "hidden_size = 8\n",
        "output_size = 1\n",
        "# Create network architecture\n",
        "input_size = 2\n",
        "hidden_size = 8\n",
        "output_size = 1\n",
        "# Create network architecture\n",
        "input_size = 2\n",
        "hidden_size = 8\n",
        "output_size = 1"
      ],
      "metadata": {
        "id": "y3gIqa0-vF1c"
      },
      "execution_count": null,
      "outputs": []
    },
    {
      "cell_type": "markdown",
      "source": [
        "## 2.3 Tasks\n",
        "\n",
        "1. Network Architecture\n",
        "\n",
        "- Implement multiple layer structure\n",
        "- Initialize weights for all layers\n",
        "- Add bias to each layer\n",
        "- Implement ReLU activation for hidden layer"
      ],
      "metadata": {
        "id": "aK-o0AK4ga-F"
      }
    },
    {
      "cell_type": "code",
      "source": [
        "import numpy as np\n",
        "\n",
        "# XOR problem dataset\n",
        "X = np.array([[0, 0], [0, 1], [1, 0], [1, 1]])\n",
        "y = np.array([[0], [1], [1], [0]])\n",
        "\n",
        "# Define network architecture\n",
        "input_size = 2\n",
        "hidden_size = 8\n",
        "output_size = 1\n",
        "\n",
        "# Initialize weights and biases\n",
        "np.random.seed(42)  # For reproducibility\n",
        "W1 = np.random.randn(input_size, hidden_size) * 0.01  # Input to hidden weights\n",
        "b1 = np.zeros((1, hidden_size))  # Hidden layer bias\n",
        "W2 = np.random.randn(hidden_size, output_size) * 0.01  # Hidden to output weights\n",
        "b2 = np.zeros((1, output_size))  # Output layer bias\n",
        "\n",
        "# Activation functions\n",
        "def relu(x):\n",
        "    return np.maximum(0, x)  # ReLU activation function\n",
        "\n",
        "def sigmoid(x):\n",
        "    return 1 / (1 + np.exp(-x))  # Sigmoid for binary classification\n",
        "\n",
        "# Forward pass function\n",
        "def forward(X):\n",
        "    global W1, b1, W2, b2\n",
        "    z1 = np.dot(X, W1) + b1  # Compute hidden layer input\n",
        "    a1 = relu(z1)  # Apply ReLU activation\n",
        "    z2 = np.dot(a1, W2) + b2  # Compute output layer input\n",
        "    a2 = sigmoid(z2)  # Apply Sigmoid activation for output\n",
        "    return a2\n",
        "\n",
        "# Run the network on the XOR inputs\n",
        "output = forward(X)\n",
        "print(\"Output predictions:\\n\", output)\n"
      ],
      "metadata": {
        "colab": {
          "base_uri": "https://localhost:8080/"
        },
        "id": "Dg969dMlgaJM",
        "outputId": "03c47fb6-cecf-44d4-aa3e-36a542d6a945"
      },
      "execution_count": null,
      "outputs": [
        {
          "output_type": "stream",
          "name": "stdout",
          "text": [
            "Output predictions:\n",
            " [[0.5       ]\n",
            " [0.50001313]\n",
            " [0.49989428]\n",
            " [0.49995395]]\n"
          ]
        }
      ]
    },
    {
      "cell_type": "markdown",
      "source": [
        "The given neural network is untrained and initialized with small random weights. Since no learning has occurred yet, the output predictions are close to 0.5 for all inputs. This happens because of the sigmoid activation function, which outputs 0.5 when the input is near zero. To make the network correctly learn the XOR function, it needs to be trained using backpropagation and gradient descent."
      ],
      "metadata": {
        "id": "5Gw6w1Awje5d"
      }
    },
    {
      "cell_type": "markdown",
      "source": [
        "2. Forward Propagation\n",
        "\n",
        "- Calculate layer outputs\n",
        "- Implement activation functions\n",
        "- Store intermediate values\n",
        "- Calculate final output"
      ],
      "metadata": {
        "id": "ZPw_xS5qg3lc"
      }
    },
    {
      "cell_type": "code",
      "source": [
        "import numpy as np\n",
        "\n",
        "# XOR problem dataset\n",
        "X = np.array([[0, 0], [0, 1], [1, 0], [1, 1]])\n",
        "\n",
        "# Define network architecture\n",
        "input_size = 2\n",
        "hidden_size = 8\n",
        "output_size = 1\n",
        "\n",
        "# Initialize weights and biases\n",
        "np.random.seed(42)\n",
        "W1 = np.random.randn(input_size, hidden_size) * 0.01  # Input to hidden weights\n",
        "b1 = np.zeros((1, hidden_size))  # Hidden layer bias\n",
        "W2 = np.random.randn(hidden_size, output_size) * 0.01  # Hidden to output weights\n",
        "b2 = np.zeros((1, output_size))  # Output layer bias\n",
        "\n",
        "# Activation functions\n",
        "def relu(x):\n",
        "    return np.maximum(0, x)  # ReLU activation for hidden layer\n",
        "\n",
        "def sigmoid(x):\n",
        "    return 1 / (1 + np.exp(-x))  # Sigmoid for output layer\n",
        "\n",
        "# Forward propagation function\n",
        "def forward(X):\n",
        "    global W1, b1, W2, b2\n",
        "\n",
        "    # Hidden layer calculations\n",
        "    z1 = np.dot(X, W1) + b1  # Linear transformation\n",
        "    a1 = relu(z1)  # Apply ReLU activation\n",
        "\n",
        "    # Output layer calculations\n",
        "    z2 = np.dot(a1, W2) + b2  # Linear transformation\n",
        "    a2 = sigmoid(z2)  # Apply Sigmoid activation\n",
        "\n",
        "    # Store intermediate values for backpropagation\n",
        "    cache = {\n",
        "        \"X\": X, \"z1\": z1, \"a1\": a1,\n",
        "        \"z2\": z2, \"a2\": a2\n",
        "    }\n",
        "\n",
        "    return a2, cache  # Return final output & intermediate values\n",
        "\n",
        "# Run forward propagation\n",
        "output, cache = forward(X)\n",
        "print(\"Output Predictions:\\n\", output)\n"
      ],
      "metadata": {
        "colab": {
          "base_uri": "https://localhost:8080/"
        },
        "id": "iPeafxJYrXDF",
        "outputId": "ff433eb7-8eee-47f1-953b-63449b420122"
      },
      "execution_count": null,
      "outputs": [
        {
          "output_type": "stream",
          "name": "stdout",
          "text": [
            "Output Predictions:\n",
            " [[0.5       ]\n",
            " [0.50001313]\n",
            " [0.49989428]\n",
            " [0.49995395]]\n"
          ]
        }
      ]
    },
    {
      "cell_type": "markdown",
      "source": [
        "## 3. Backpropagation\n",
        "\n",
        "- Calculate output error\n",
        "- Implement chain rule\n",
        "- Update all weights\n",
        "- Implement learning rate scheduling"
      ],
      "metadata": {
        "id": "QC4lhwgnrsO9"
      }
    },
    {
      "cell_type": "code",
      "source": [
        "import numpy as np\n",
        "\n",
        "# XOR dataset\n",
        "X = np.array([[0, 0], [0, 1], [1, 0], [1, 1]])\n",
        "y = np.array([[0], [1], [1], [0]])  # Expected outputs\n",
        "\n",
        "# Neural network architecture\n",
        "input_size = 2\n",
        "hidden_size = 8\n",
        "output_size = 1\n",
        "\n",
        "# Initialize weights and biases\n",
        "np.random.seed(42)\n",
        "W1 = np.random.randn(input_size, hidden_size) * 0.01  # Input to hidden weights\n",
        "b1 = np.zeros((1, hidden_size))  # Hidden layer bias\n",
        "W2 = np.random.randn(hidden_size, output_size) * 0.01  # Hidden to output weights\n",
        "b2 = np.zeros((1, output_size))  # Output layer bias\n",
        "\n",
        "# Activation functions\n",
        "def relu(x):\n",
        "    return np.maximum(0, x)\n",
        "\n",
        "def relu_derivative(x):\n",
        "    return (x > 0).astype(float)  # Derivative of ReLU\n",
        "\n",
        "def sigmoid(x):\n",
        "    return 1 / (1 + np.exp(-x))\n",
        "\n",
        "def sigmoid_derivative(x):\n",
        "    return sigmoid(x) * (1 - sigmoid(x))  # Derivative of Sigmoid\n",
        "\n",
        "# Forward propagation function\n",
        "def forward(X):\n",
        "    z1 = np.dot(X, W1) + b1\n",
        "    a1 = relu(z1)\n",
        "    z2 = np.dot(a1, W2) + b2\n",
        "    a2 = sigmoid(z2)\n",
        "\n",
        "    cache = {\"X\": X, \"z1\": z1, \"a1\": a1, \"z2\": z2, \"a2\": a2}\n",
        "    return a2, cache  # Output and stored values for backprop\n",
        "\n",
        "# Backpropagation function\n",
        "def backward(y, cache, learning_rate):\n",
        "    global W1, b1, W2, b2\n",
        "\n",
        "    # Retrieve stored values from forward pass\n",
        "    X, z1, a1, z2, a2 = cache[\"X\"], cache[\"z1\"], cache[\"a1\"], cache[\"z2\"], cache[\"a2\"]\n",
        "\n",
        "    # Step 1: Compute Output Error\n",
        "    error = a2 - y  # Difference between predicted and actual\n",
        "\n",
        "    # Step 2: Compute Gradients Using Chain Rule\n",
        "    dz2 = error * sigmoid_derivative(z2)  # Gradient for output layer\n",
        "    dW2 = np.dot(a1.T, dz2) / len(y)  # Weight gradient for output layer\n",
        "    db2 = np.sum(dz2, axis=0, keepdims=True) / len(y)  # Bias gradient\n",
        "\n",
        "    dz1 = np.dot(dz2, W2.T) * relu_derivative(z1)  # Gradient for hidden layer\n",
        "    dW1 = np.dot(X.T, dz1) / len(y)  # Weight gradient for hidden layer\n",
        "    db1 = np.sum(dz1, axis=0, keepdims=True) / len(y)  # Bias gradient\n",
        "\n",
        "    # Step 3: Update Weights with Learning Rate Scheduling\n",
        "    W1 -= learning_rate * dW1\n",
        "    b1 -= learning_rate * db1\n",
        "    W2 -= learning_rate * dW2\n",
        "    b2 -= learning_rate * db2\n",
        "\n",
        "# Training loop\n",
        "epochs = 10000\n",
        "initial_lr = 0.1  # Initial learning rate\n",
        "decay = 0.001  # Learning rate decay factor\n",
        "\n",
        "for epoch in range(epochs):\n",
        "    learning_rate = initial_lr / (1 + decay * epoch)  # Learning rate scheduling\n",
        "    output, cache = forward(X)  # Forward pass\n",
        "    backward(y, cache, learning_rate)  # Backpropagation\n",
        "\n",
        "    # Print loss every 1000 epochs\n",
        "    if epoch % 1000 == 0:\n",
        "        loss = np.mean((output - y) ** 2)  # Mean Squared Error loss\n",
        "        print(f\"Epoch {epoch}: Loss = {loss:.4f}\")\n",
        "\n",
        "# Final output after training\n",
        "output, _ = forward(X)\n",
        "print(\"\\nFinal Predictions:\\n\", output)\n"
      ],
      "metadata": {
        "colab": {
          "base_uri": "https://localhost:8080/"
        },
        "id": "A-a1pO3Cxa3l",
        "outputId": "4a7f27ef-54cf-436a-c8f3-2f62380a5102"
      },
      "execution_count": null,
      "outputs": [
        {
          "output_type": "stream",
          "name": "stdout",
          "text": [
            "Epoch 0: Loss = 0.2500\n",
            "Epoch 1000: Loss = 0.2497\n",
            "Epoch 2000: Loss = 0.2484\n",
            "Epoch 3000: Loss = 0.2447\n",
            "Epoch 4000: Loss = 0.2365\n",
            "Epoch 5000: Loss = 0.2221\n",
            "Epoch 6000: Loss = 0.2011\n",
            "Epoch 7000: Loss = 0.1752\n",
            "Epoch 8000: Loss = 0.1480\n",
            "Epoch 9000: Loss = 0.1229\n",
            "\n",
            "Final Predictions:\n",
            " [[0.38042825]\n",
            " [0.70016246]\n",
            " [0.73609861]\n",
            " [0.32094457]]\n"
          ]
        }
      ]
    },
    {
      "cell_type": "markdown",
      "source": [
        "The model is trained using backpropagation to minimize loss while learning the XOR function.\n",
        "Loss decreases from 0.2500 to 0.1229 over 9000 epochs, showing gradual learning.\n",
        "Final predictions are close but not perfect:\n",
        "- [0,0] → 0.38 (should be ~0)\n",
        "- [0,1] → 0.70 (should be ~1)\n",
        "- [1,0] → 0.73 (should be ~1)\n",
        "- [1,1] → 0.32 (should be ~0)\n",
        "\n",
        "The network partially learns XOR, but improvements are needed:\n",
        "More training epochs\n",
        "Adjust network architecture (more neurons/layers)\n",
        "Optimize learning rate and activation functions"
      ],
      "metadata": {
        "id": "q97tDsOWx7bB"
      }
    },
    {
      "cell_type": "markdown",
      "source": [
        "# Exercise 3: Deep Neural Network\n",
        "\n",
        "## 3.1 Objective\n",
        "\n",
        "Implement a deep neural network for MNIST digit classification"
      ],
      "metadata": {
        "id": "32S6S0zByFEg"
      }
    },
    {
      "cell_type": "markdown",
      "source": [
        "#3.2 Dataset"
      ],
      "metadata": {
        "id": "7jSplB6SyRTK"
      }
    },
    {
      "cell_type": "code",
      "source": [
        "import numpy as np\n",
        "import matplotlib.pyplot as plt\n",
        "import tensorflow as tf\n",
        "from tensorflow import keras\n",
        "from sklearn.datasets import load_digits\n",
        "from sklearn.model_selection import train_test_split\n",
        "from sklearn.metrics import accuracy_score, confusion_matrix, classification_report\n",
        "import seaborn as sns\n",
        "\n",
        "# Load MNIST Digits Dataset\n",
        "digits = load_digits()\n",
        "X, y = digits.data, digits.target\n",
        "\n",
        "# Normalize data\n",
        "X = X / 16.0  # Scale pixel values between 0 and 1\n",
        "\n",
        "# Split dataset\n",
        "X_train, X_test, y_train, y_test = train_test_split(X, y, test_size=0.2, random_state=42)\n"
      ],
      "metadata": {
        "id": "k-iLEI7PPpOp"
      },
      "execution_count": 2,
      "outputs": []
    },
    {
      "cell_type": "markdown",
      "source": [
        "## 3.3 Tasks\n",
        "### 1. Implementation\n",
        "- Create multiple hidden layers\n",
        "- Implement dropout regularization\n",
        "- Add batch normalization\n",
        "- Implement mini-batch training\n",
        "\n"
      ],
      "metadata": {
        "id": "viiuD6Q9Ow1B"
      }
    },
    {
      "cell_type": "code",
      "source": [
        "\n",
        "# Convert labels to categorical (one-hot encoding)\n",
        "y_train_cat = keras.utils.to_categorical(y_train, num_classes=10)\n",
        "y_test_cat = keras.utils.to_categorical(y_test, num_classes=10)\n",
        "\n",
        "# Define Deep Neural Network Model\n",
        "model = keras.Sequential([\n",
        "    keras.layers.Dense(128, activation='relu', input_shape=(64,)),  # First hidden layer\n",
        "    keras.layers.BatchNormalization(),  # Batch normalization\n",
        "    keras.layers.Dropout(0.3),  # Dropout for regularization\n",
        "\n",
        "    keras.layers.Dense(64, activation='relu'),  # Second hidden layer\n",
        "    keras.layers.BatchNormalization(),\n",
        "    keras.layers.Dropout(0.3),\n",
        "\n",
        "    keras.layers.Dense(32, activation='relu'),  # Third hidden layer\n",
        "    keras.layers.Dense(10, activation='softmax')  # Output layer (10 classes)\n",
        "])\n",
        "\n",
        "# Compile model\n",
        "model.compile(\n",
        "    optimizer=keras.optimizers.Adam(learning_rate=0.01),  # Adam optimizer\n",
        "    loss='categorical_crossentropy',  # Cross-entropy loss\n",
        "    metrics=['accuracy']\n",
        ")\n",
        "\n",
        "# Train model with mini-batch training\n",
        "history = model.fit(\n",
        "    X_train, y_train_cat,\n",
        "    validation_data=(X_test, y_test_cat),\n",
        "    epochs=50, batch_size=32  # Mini-batch size of 32\n",
        ")"
      ],
      "metadata": {
        "colab": {
          "base_uri": "https://localhost:8080/"
        },
        "id": "1Bgnve3-Pbtc",
        "outputId": "6325350b-5612-45a5-be9a-9253b2eed8e6"
      },
      "execution_count": 3,
      "outputs": [
        {
          "output_type": "stream",
          "name": "stdout",
          "text": [
            "Epoch 1/50\n"
          ]
        },
        {
          "output_type": "stream",
          "name": "stderr",
          "text": [
            "/usr/local/lib/python3.11/dist-packages/keras/src/layers/core/dense.py:87: UserWarning: Do not pass an `input_shape`/`input_dim` argument to a layer. When using Sequential models, prefer using an `Input(shape)` object as the first layer in the model instead.\n",
            "  super().__init__(activity_regularizer=activity_regularizer, **kwargs)\n"
          ]
        },
        {
          "output_type": "stream",
          "name": "stdout",
          "text": [
            "\u001b[1m45/45\u001b[0m \u001b[32m━━━━━━━━━━━━━━━━━━━━\u001b[0m\u001b[37m\u001b[0m \u001b[1m6s\u001b[0m 17ms/step - accuracy: 0.6189 - loss: 1.2731 - val_accuracy: 0.9167 - val_loss: 0.4884\n",
            "Epoch 2/50\n",
            "\u001b[1m45/45\u001b[0m \u001b[32m━━━━━━━━━━━━━━━━━━━━\u001b[0m\u001b[37m\u001b[0m \u001b[1m1s\u001b[0m 5ms/step - accuracy: 0.9008 - loss: 0.3087 - val_accuracy: 0.9333 - val_loss: 0.2481\n",
            "Epoch 3/50\n",
            "\u001b[1m45/45\u001b[0m \u001b[32m━━━━━━━━━━━━━━━━━━━━\u001b[0m\u001b[37m\u001b[0m \u001b[1m0s\u001b[0m 5ms/step - accuracy: 0.8898 - loss: 0.3218 - val_accuracy: 0.9472 - val_loss: 0.1829\n",
            "Epoch 4/50\n",
            "\u001b[1m45/45\u001b[0m \u001b[32m━━━━━━━━━━━━━━━━━━━━\u001b[0m\u001b[37m\u001b[0m \u001b[1m0s\u001b[0m 5ms/step - accuracy: 0.9217 - loss: 0.2208 - val_accuracy: 0.9222 - val_loss: 0.2240\n",
            "Epoch 5/50\n",
            "\u001b[1m45/45\u001b[0m \u001b[32m━━━━━━━━━━━━━━━━━━━━\u001b[0m\u001b[37m\u001b[0m \u001b[1m0s\u001b[0m 5ms/step - accuracy: 0.9227 - loss: 0.2104 - val_accuracy: 0.9528 - val_loss: 0.1511\n",
            "Epoch 6/50\n",
            "\u001b[1m45/45\u001b[0m \u001b[32m━━━━━━━━━━━━━━━━━━━━\u001b[0m\u001b[37m\u001b[0m \u001b[1m0s\u001b[0m 5ms/step - accuracy: 0.9418 - loss: 0.1964 - val_accuracy: 0.9583 - val_loss: 0.1103\n",
            "Epoch 7/50\n",
            "\u001b[1m45/45\u001b[0m \u001b[32m━━━━━━━━━━━━━━━━━━━━\u001b[0m\u001b[37m\u001b[0m \u001b[1m0s\u001b[0m 5ms/step - accuracy: 0.9183 - loss: 0.2406 - val_accuracy: 0.9583 - val_loss: 0.1506\n",
            "Epoch 8/50\n",
            "\u001b[1m45/45\u001b[0m \u001b[32m━━━━━━━━━━━━━━━━━━━━\u001b[0m\u001b[37m\u001b[0m \u001b[1m0s\u001b[0m 5ms/step - accuracy: 0.9414 - loss: 0.1934 - val_accuracy: 0.9778 - val_loss: 0.0831\n",
            "Epoch 9/50\n",
            "\u001b[1m45/45\u001b[0m \u001b[32m━━━━━━━━━━━━━━━━━━━━\u001b[0m\u001b[37m\u001b[0m \u001b[1m0s\u001b[0m 5ms/step - accuracy: 0.9274 - loss: 0.2379 - val_accuracy: 0.9722 - val_loss: 0.0968\n",
            "Epoch 10/50\n",
            "\u001b[1m45/45\u001b[0m \u001b[32m━━━━━━━━━━━━━━━━━━━━\u001b[0m\u001b[37m\u001b[0m \u001b[1m0s\u001b[0m 5ms/step - accuracy: 0.9416 - loss: 0.1563 - val_accuracy: 0.9722 - val_loss: 0.0889\n",
            "Epoch 11/50\n",
            "\u001b[1m45/45\u001b[0m \u001b[32m━━━━━━━━━━━━━━━━━━━━\u001b[0m\u001b[37m\u001b[0m \u001b[1m0s\u001b[0m 5ms/step - accuracy: 0.9608 - loss: 0.1256 - val_accuracy: 0.9667 - val_loss: 0.1174\n",
            "Epoch 12/50\n",
            "\u001b[1m45/45\u001b[0m \u001b[32m━━━━━━━━━━━━━━━━━━━━\u001b[0m\u001b[37m\u001b[0m \u001b[1m0s\u001b[0m 5ms/step - accuracy: 0.9451 - loss: 0.1605 - val_accuracy: 0.9528 - val_loss: 0.1359\n",
            "Epoch 13/50\n",
            "\u001b[1m45/45\u001b[0m \u001b[32m━━━━━━━━━━━━━━━━━━━━\u001b[0m\u001b[37m\u001b[0m \u001b[1m0s\u001b[0m 5ms/step - accuracy: 0.9331 - loss: 0.1935 - val_accuracy: 0.9667 - val_loss: 0.1300\n",
            "Epoch 14/50\n",
            "\u001b[1m45/45\u001b[0m \u001b[32m━━━━━━━━━━━━━━━━━━━━\u001b[0m\u001b[37m\u001b[0m \u001b[1m0s\u001b[0m 5ms/step - accuracy: 0.9581 - loss: 0.1095 - val_accuracy: 0.9750 - val_loss: 0.1059\n",
            "Epoch 15/50\n",
            "\u001b[1m45/45\u001b[0m \u001b[32m━━━━━━━━━━━━━━━━━━━━\u001b[0m\u001b[37m\u001b[0m \u001b[1m0s\u001b[0m 5ms/step - accuracy: 0.9556 - loss: 0.1386 - val_accuracy: 0.9444 - val_loss: 0.1765\n",
            "Epoch 16/50\n",
            "\u001b[1m45/45\u001b[0m \u001b[32m━━━━━━━━━━━━━━━━━━━━\u001b[0m\u001b[37m\u001b[0m \u001b[1m0s\u001b[0m 5ms/step - accuracy: 0.9628 - loss: 0.1010 - val_accuracy: 0.9694 - val_loss: 0.1103\n",
            "Epoch 17/50\n",
            "\u001b[1m45/45\u001b[0m \u001b[32m━━━━━━━━━━━━━━━━━━━━\u001b[0m\u001b[37m\u001b[0m \u001b[1m0s\u001b[0m 5ms/step - accuracy: 0.9645 - loss: 0.0997 - val_accuracy: 0.9667 - val_loss: 0.0947\n",
            "Epoch 18/50\n",
            "\u001b[1m45/45\u001b[0m \u001b[32m━━━━━━━━━━━━━━━━━━━━\u001b[0m\u001b[37m\u001b[0m \u001b[1m0s\u001b[0m 5ms/step - accuracy: 0.9461 - loss: 0.1438 - val_accuracy: 0.9667 - val_loss: 0.1344\n",
            "Epoch 19/50\n",
            "\u001b[1m45/45\u001b[0m \u001b[32m━━━━━━━━━━━━━━━━━━━━\u001b[0m\u001b[37m\u001b[0m \u001b[1m0s\u001b[0m 5ms/step - accuracy: 0.9643 - loss: 0.1052 - val_accuracy: 0.9639 - val_loss: 0.1320\n",
            "Epoch 20/50\n",
            "\u001b[1m45/45\u001b[0m \u001b[32m━━━━━━━━━━━━━━━━━━━━\u001b[0m\u001b[37m\u001b[0m \u001b[1m0s\u001b[0m 5ms/step - accuracy: 0.9591 - loss: 0.1506 - val_accuracy: 0.9528 - val_loss: 0.1603\n",
            "Epoch 21/50\n",
            "\u001b[1m45/45\u001b[0m \u001b[32m━━━━━━━━━━━━━━━━━━━━\u001b[0m\u001b[37m\u001b[0m \u001b[1m0s\u001b[0m 5ms/step - accuracy: 0.9403 - loss: 0.2055 - val_accuracy: 0.9639 - val_loss: 0.1227\n",
            "Epoch 22/50\n",
            "\u001b[1m45/45\u001b[0m \u001b[32m━━━━━━━━━━━━━━━━━━━━\u001b[0m\u001b[37m\u001b[0m \u001b[1m0s\u001b[0m 5ms/step - accuracy: 0.9665 - loss: 0.1058 - val_accuracy: 0.9556 - val_loss: 0.1365\n",
            "Epoch 23/50\n",
            "\u001b[1m45/45\u001b[0m \u001b[32m━━━━━━━━━━━━━━━━━━━━\u001b[0m\u001b[37m\u001b[0m \u001b[1m0s\u001b[0m 5ms/step - accuracy: 0.9560 - loss: 0.1122 - val_accuracy: 0.9611 - val_loss: 0.1919\n",
            "Epoch 24/50\n",
            "\u001b[1m45/45\u001b[0m \u001b[32m━━━━━━━━━━━━━━━━━━━━\u001b[0m\u001b[37m\u001b[0m \u001b[1m0s\u001b[0m 5ms/step - accuracy: 0.9563 - loss: 0.1507 - val_accuracy: 0.9806 - val_loss: 0.0530\n",
            "Epoch 25/50\n",
            "\u001b[1m45/45\u001b[0m \u001b[32m━━━━━━━━━━━━━━━━━━━━\u001b[0m\u001b[37m\u001b[0m \u001b[1m0s\u001b[0m 5ms/step - accuracy: 0.9649 - loss: 0.1119 - val_accuracy: 0.9667 - val_loss: 0.1134\n",
            "Epoch 26/50\n",
            "\u001b[1m45/45\u001b[0m \u001b[32m━━━━━━━━━━━━━━━━━━━━\u001b[0m\u001b[37m\u001b[0m \u001b[1m0s\u001b[0m 5ms/step - accuracy: 0.9716 - loss: 0.1079 - val_accuracy: 0.9556 - val_loss: 0.1688\n",
            "Epoch 27/50\n",
            "\u001b[1m45/45\u001b[0m \u001b[32m━━━━━━━━━━━━━━━━━━━━\u001b[0m\u001b[37m\u001b[0m \u001b[1m0s\u001b[0m 5ms/step - accuracy: 0.9644 - loss: 0.1249 - val_accuracy: 0.9722 - val_loss: 0.1078\n",
            "Epoch 28/50\n",
            "\u001b[1m45/45\u001b[0m \u001b[32m━━━━━━━━━━━━━━━━━━━━\u001b[0m\u001b[37m\u001b[0m \u001b[1m0s\u001b[0m 5ms/step - accuracy: 0.9543 - loss: 0.1370 - val_accuracy: 0.9806 - val_loss: 0.0783\n",
            "Epoch 29/50\n",
            "\u001b[1m45/45\u001b[0m \u001b[32m━━━━━━━━━━━━━━━━━━━━\u001b[0m\u001b[37m\u001b[0m \u001b[1m0s\u001b[0m 5ms/step - accuracy: 0.9531 - loss: 0.1867 - val_accuracy: 0.9667 - val_loss: 0.1168\n",
            "Epoch 30/50\n",
            "\u001b[1m45/45\u001b[0m \u001b[32m━━━━━━━━━━━━━━━━━━━━\u001b[0m\u001b[37m\u001b[0m \u001b[1m0s\u001b[0m 5ms/step - accuracy: 0.9718 - loss: 0.0982 - val_accuracy: 0.9667 - val_loss: 0.1209\n",
            "Epoch 31/50\n",
            "\u001b[1m45/45\u001b[0m \u001b[32m━━━━━━━━━━━━━━━━━━━━\u001b[0m\u001b[37m\u001b[0m \u001b[1m0s\u001b[0m 5ms/step - accuracy: 0.9665 - loss: 0.1171 - val_accuracy: 0.9722 - val_loss: 0.1093\n",
            "Epoch 32/50\n",
            "\u001b[1m45/45\u001b[0m \u001b[32m━━━━━━━━━━━━━━━━━━━━\u001b[0m\u001b[37m\u001b[0m \u001b[1m0s\u001b[0m 4ms/step - accuracy: 0.9606 - loss: 0.1126 - val_accuracy: 0.9611 - val_loss: 0.1253\n",
            "Epoch 33/50\n",
            "\u001b[1m45/45\u001b[0m \u001b[32m━━━━━━━━━━━━━━━━━━━━\u001b[0m\u001b[37m\u001b[0m \u001b[1m0s\u001b[0m 5ms/step - accuracy: 0.9639 - loss: 0.1029 - val_accuracy: 0.9778 - val_loss: 0.0761\n",
            "Epoch 34/50\n",
            "\u001b[1m45/45\u001b[0m \u001b[32m━━━━━━━━━━━━━━━━━━━━\u001b[0m\u001b[37m\u001b[0m \u001b[1m0s\u001b[0m 5ms/step - accuracy: 0.9705 - loss: 0.1000 - val_accuracy: 0.9667 - val_loss: 0.1132\n",
            "Epoch 35/50\n",
            "\u001b[1m45/45\u001b[0m \u001b[32m━━━━━━━━━━━━━━━━━━━━\u001b[0m\u001b[37m\u001b[0m \u001b[1m0s\u001b[0m 5ms/step - accuracy: 0.9665 - loss: 0.0951 - val_accuracy: 0.9667 - val_loss: 0.0796\n",
            "Epoch 36/50\n",
            "\u001b[1m45/45\u001b[0m \u001b[32m━━━━━━━━━━━━━━━━━━━━\u001b[0m\u001b[37m\u001b[0m \u001b[1m0s\u001b[0m 5ms/step - accuracy: 0.9696 - loss: 0.0851 - val_accuracy: 0.9750 - val_loss: 0.0944\n",
            "Epoch 37/50\n",
            "\u001b[1m45/45\u001b[0m \u001b[32m━━━━━━━━━━━━━━━━━━━━\u001b[0m\u001b[37m\u001b[0m \u001b[1m0s\u001b[0m 9ms/step - accuracy: 0.9588 - loss: 0.1239 - val_accuracy: 0.9722 - val_loss: 0.0591\n",
            "Epoch 38/50\n",
            "\u001b[1m45/45\u001b[0m \u001b[32m━━━━━━━━━━━━━━━━━━━━\u001b[0m\u001b[37m\u001b[0m \u001b[1m0s\u001b[0m 7ms/step - accuracy: 0.9587 - loss: 0.1372 - val_accuracy: 0.9778 - val_loss: 0.0788\n",
            "Epoch 39/50\n",
            "\u001b[1m45/45\u001b[0m \u001b[32m━━━━━━━━━━━━━━━━━━━━\u001b[0m\u001b[37m\u001b[0m \u001b[1m1s\u001b[0m 9ms/step - accuracy: 0.9620 - loss: 0.1223 - val_accuracy: 0.9778 - val_loss: 0.0747\n",
            "Epoch 40/50\n",
            "\u001b[1m45/45\u001b[0m \u001b[32m━━━━━━━━━━━━━━━━━━━━\u001b[0m\u001b[37m\u001b[0m \u001b[1m0s\u001b[0m 8ms/step - accuracy: 0.9788 - loss: 0.0867 - val_accuracy: 0.9778 - val_loss: 0.0920\n",
            "Epoch 41/50\n",
            "\u001b[1m45/45\u001b[0m \u001b[32m━━━━━━━━━━━━━━━━━━━━\u001b[0m\u001b[37m\u001b[0m \u001b[1m0s\u001b[0m 8ms/step - accuracy: 0.9742 - loss: 0.1073 - val_accuracy: 0.9722 - val_loss: 0.1084\n",
            "Epoch 42/50\n",
            "\u001b[1m45/45\u001b[0m \u001b[32m━━━━━━━━━━━━━━━━━━━━\u001b[0m\u001b[37m\u001b[0m \u001b[1m0s\u001b[0m 5ms/step - accuracy: 0.9814 - loss: 0.0694 - val_accuracy: 0.9833 - val_loss: 0.0774\n",
            "Epoch 43/50\n",
            "\u001b[1m45/45\u001b[0m \u001b[32m━━━━━━━━━━━━━━━━━━━━\u001b[0m\u001b[37m\u001b[0m \u001b[1m0s\u001b[0m 5ms/step - accuracy: 0.9601 - loss: 0.1061 - val_accuracy: 0.9583 - val_loss: 0.0969\n",
            "Epoch 44/50\n",
            "\u001b[1m45/45\u001b[0m \u001b[32m━━━━━━━━━━━━━━━━━━━━\u001b[0m\u001b[37m\u001b[0m \u001b[1m0s\u001b[0m 5ms/step - accuracy: 0.9717 - loss: 0.0930 - val_accuracy: 0.9806 - val_loss: 0.0693\n",
            "Epoch 45/50\n",
            "\u001b[1m45/45\u001b[0m \u001b[32m━━━━━━━━━━━━━━━━━━━━\u001b[0m\u001b[37m\u001b[0m \u001b[1m0s\u001b[0m 5ms/step - accuracy: 0.9788 - loss: 0.0618 - val_accuracy: 0.9667 - val_loss: 0.1358\n",
            "Epoch 46/50\n",
            "\u001b[1m45/45\u001b[0m \u001b[32m━━━━━━━━━━━━━━━━━━━━\u001b[0m\u001b[37m\u001b[0m \u001b[1m0s\u001b[0m 5ms/step - accuracy: 0.9749 - loss: 0.0679 - val_accuracy: 0.9833 - val_loss: 0.0703\n",
            "Epoch 47/50\n",
            "\u001b[1m45/45\u001b[0m \u001b[32m━━━━━━━━━━━━━━━━━━━━\u001b[0m\u001b[37m\u001b[0m \u001b[1m0s\u001b[0m 5ms/step - accuracy: 0.9683 - loss: 0.0944 - val_accuracy: 0.9806 - val_loss: 0.0883\n",
            "Epoch 48/50\n",
            "\u001b[1m45/45\u001b[0m \u001b[32m━━━━━━━━━━━━━━━━━━━━\u001b[0m\u001b[37m\u001b[0m \u001b[1m0s\u001b[0m 5ms/step - accuracy: 0.9750 - loss: 0.0691 - val_accuracy: 0.9778 - val_loss: 0.1105\n",
            "Epoch 49/50\n",
            "\u001b[1m45/45\u001b[0m \u001b[32m━━━━━━━━━━━━━━━━━━━━\u001b[0m\u001b[37m\u001b[0m \u001b[1m0s\u001b[0m 5ms/step - accuracy: 0.9617 - loss: 0.1184 - val_accuracy: 0.9667 - val_loss: 0.1138\n",
            "Epoch 50/50\n",
            "\u001b[1m45/45\u001b[0m \u001b[32m━━━━━━━━━━━━━━━━━━━━\u001b[0m\u001b[37m\u001b[0m \u001b[1m0s\u001b[0m 5ms/step - accuracy: 0.9671 - loss: 0.0887 - val_accuracy: 0.9722 - val_loss: 0.0699\n"
          ]
        }
      ]
    },
    {
      "cell_type": "markdown",
      "source": [
        "### 2. Training\n",
        "- Implement cross-entropy loss\n",
        "- Add momentum to optimization\n",
        "- Implement early stopping\n",
        "- Add learning rate decay"
      ],
      "metadata": {
        "id": "WKgg6IXMPIDI"
      }
    },
    {
      "cell_type": "code",
      "source": [
        "# Define the DNN model\n",
        "model = keras.Sequential([\n",
        "    keras.layers.Dense(128, activation='relu', input_shape=(64,)),\n",
        "    keras.layers.BatchNormalization(),\n",
        "    keras.layers.Dropout(0.3),\n",
        "\n",
        "    keras.layers.Dense(64, activation='relu'),\n",
        "    keras.layers.BatchNormalization(),\n",
        "    keras.layers.Dropout(0.3),\n",
        "\n",
        "    keras.layers.Dense(32, activation='relu'),\n",
        "    keras.layers.Dense(10, activation='softmax')  # Output layer (10 classes)\n",
        "])\n",
        "\n",
        "# Define learning rate decay function\n",
        "lr_schedule = keras.optimizers.schedules.ExponentialDecay(\n",
        "    initial_learning_rate=0.01, decay_steps=1000, decay_rate=0.9\n",
        ")\n",
        "\n",
        "# Compile model with cross-entropy loss and SGD with momentum\n",
        "model.compile(\n",
        "    optimizer=keras.optimizers.SGD(learning_rate=lr_schedule, momentum=0.9),\n",
        "    loss='categorical_crossentropy',\n",
        "    metrics=['accuracy']\n",
        ")\n",
        "\n",
        "# Implement early stopping\n",
        "early_stopping = keras.callbacks.EarlyStopping(\n",
        "    monitor='val_loss', patience=5, restore_best_weights=True\n",
        ")\n",
        "\n",
        "# Train model with mini-batch training\n",
        "history = model.fit(\n",
        "    X_train, y_train_cat,\n",
        "    validation_data=(X_test, y_test_cat),\n",
        "    epochs=50, batch_size=32,\n",
        "    callbacks=[early_stopping]  # Apply early stopping\n",
        ")"
      ],
      "metadata": {
        "colab": {
          "base_uri": "https://localhost:8080/"
        },
        "id": "2of36XCOQbAW",
        "outputId": "2eb190ab-9c24-40ff-8af8-8e863efde824"
      },
      "execution_count": 4,
      "outputs": [
        {
          "output_type": "stream",
          "name": "stdout",
          "text": [
            "Epoch 1/50\n",
            "\u001b[1m45/45\u001b[0m \u001b[32m━━━━━━━━━━━━━━━━━━━━\u001b[0m\u001b[37m\u001b[0m \u001b[1m3s\u001b[0m 11ms/step - accuracy: 0.3741 - loss: 1.9471 - val_accuracy: 0.7611 - val_loss: 1.4655\n",
            "Epoch 2/50\n",
            "\u001b[1m45/45\u001b[0m \u001b[32m━━━━━━━━━━━━━━━━━━━━\u001b[0m\u001b[37m\u001b[0m \u001b[1m0s\u001b[0m 6ms/step - accuracy: 0.8593 - loss: 0.5427 - val_accuracy: 0.9306 - val_loss: 0.7524\n",
            "Epoch 3/50\n",
            "\u001b[1m45/45\u001b[0m \u001b[32m━━━━━━━━━━━━━━━━━━━━\u001b[0m\u001b[37m\u001b[0m \u001b[1m0s\u001b[0m 5ms/step - accuracy: 0.9087 - loss: 0.3108 - val_accuracy: 0.9250 - val_loss: 0.4696\n",
            "Epoch 4/50\n",
            "\u001b[1m45/45\u001b[0m \u001b[32m━━━━━━━━━━━━━━━━━━━━\u001b[0m\u001b[37m\u001b[0m \u001b[1m0s\u001b[0m 5ms/step - accuracy: 0.9269 - loss: 0.2333 - val_accuracy: 0.9583 - val_loss: 0.2795\n",
            "Epoch 5/50\n",
            "\u001b[1m45/45\u001b[0m \u001b[32m━━━━━━━━━━━━━━━━━━━━\u001b[0m\u001b[37m\u001b[0m \u001b[1m0s\u001b[0m 5ms/step - accuracy: 0.9372 - loss: 0.2089 - val_accuracy: 0.9472 - val_loss: 0.2153\n",
            "Epoch 6/50\n",
            "\u001b[1m45/45\u001b[0m \u001b[32m━━━━━━━━━━━━━━━━━━━━\u001b[0m\u001b[37m\u001b[0m \u001b[1m0s\u001b[0m 5ms/step - accuracy: 0.9480 - loss: 0.1683 - val_accuracy: 0.9694 - val_loss: 0.1475\n",
            "Epoch 7/50\n",
            "\u001b[1m45/45\u001b[0m \u001b[32m━━━━━━━━━━━━━━━━━━━━\u001b[0m\u001b[37m\u001b[0m \u001b[1m0s\u001b[0m 5ms/step - accuracy: 0.9511 - loss: 0.1564 - val_accuracy: 0.9722 - val_loss: 0.1150\n",
            "Epoch 8/50\n",
            "\u001b[1m45/45\u001b[0m \u001b[32m━━━━━━━━━━━━━━━━━━━━\u001b[0m\u001b[37m\u001b[0m \u001b[1m0s\u001b[0m 5ms/step - accuracy: 0.9610 - loss: 0.1566 - val_accuracy: 0.9750 - val_loss: 0.1049\n",
            "Epoch 9/50\n",
            "\u001b[1m45/45\u001b[0m \u001b[32m━━━━━━━━━━━━━━━━━━━━\u001b[0m\u001b[37m\u001b[0m \u001b[1m0s\u001b[0m 4ms/step - accuracy: 0.9576 - loss: 0.1378 - val_accuracy: 0.9722 - val_loss: 0.1053\n",
            "Epoch 10/50\n",
            "\u001b[1m45/45\u001b[0m \u001b[32m━━━━━━━━━━━━━━━━━━━━\u001b[0m\u001b[37m\u001b[0m \u001b[1m0s\u001b[0m 5ms/step - accuracy: 0.9535 - loss: 0.1300 - val_accuracy: 0.9806 - val_loss: 0.1081\n",
            "Epoch 11/50\n",
            "\u001b[1m45/45\u001b[0m \u001b[32m━━━━━━━━━━━━━━━━━━━━\u001b[0m\u001b[37m\u001b[0m \u001b[1m0s\u001b[0m 5ms/step - accuracy: 0.9654 - loss: 0.1183 - val_accuracy: 0.9778 - val_loss: 0.0877\n",
            "Epoch 12/50\n",
            "\u001b[1m45/45\u001b[0m \u001b[32m━━━━━━━━━━━━━━━━━━━━\u001b[0m\u001b[37m\u001b[0m \u001b[1m0s\u001b[0m 4ms/step - accuracy: 0.9648 - loss: 0.0984 - val_accuracy: 0.9750 - val_loss: 0.0895\n",
            "Epoch 13/50\n",
            "\u001b[1m45/45\u001b[0m \u001b[32m━━━━━━━━━━━━━━━━━━━━\u001b[0m\u001b[37m\u001b[0m \u001b[1m0s\u001b[0m 5ms/step - accuracy: 0.9577 - loss: 0.1137 - val_accuracy: 0.9667 - val_loss: 0.1324\n",
            "Epoch 14/50\n",
            "\u001b[1m45/45\u001b[0m \u001b[32m━━━━━━━━━━━━━━━━━━━━\u001b[0m\u001b[37m\u001b[0m \u001b[1m0s\u001b[0m 5ms/step - accuracy: 0.9609 - loss: 0.1097 - val_accuracy: 0.9694 - val_loss: 0.1104\n",
            "Epoch 15/50\n",
            "\u001b[1m45/45\u001b[0m \u001b[32m━━━━━━━━━━━━━━━━━━━━\u001b[0m\u001b[37m\u001b[0m \u001b[1m0s\u001b[0m 4ms/step - accuracy: 0.9588 - loss: 0.1171 - val_accuracy: 0.9722 - val_loss: 0.1001\n",
            "Epoch 16/50\n",
            "\u001b[1m45/45\u001b[0m \u001b[32m━━━━━━━━━━━━━━━━━━━━\u001b[0m\u001b[37m\u001b[0m \u001b[1m0s\u001b[0m 5ms/step - accuracy: 0.9610 - loss: 0.1112 - val_accuracy: 0.9750 - val_loss: 0.0880\n"
          ]
        }
      ]
    },
    {
      "cell_type": "markdown",
      "source": [
        "I implemented a deep neural network for digit classification using multiple hidden layers with ReLU activation. To improve generalization, I added **dropout** and **batch normalization**. I used **SGD with momentum (0.9)** and **learning rate decay** for optimization. The model was trained with **cross-entropy loss** and **early stopping** to prevent overfitting. Training results showed steady improvement, reaching **98% validation accuracy**, with slight overfitting after epoch 12. Further tuning of dropout rates, batch size, or optimizer selection could enhance performance."
      ],
      "metadata": {
        "id": "k9ofHXVdVrdh"
      }
    },
    {
      "cell_type": "markdown",
      "source": [
        "### 3. Evaluation\n",
        "- Calculate accuracy metrics\n",
        "- Create confusion matrix\n",
        "- Visualize misclassified digits\n",
        "- Analyze network predictions"
      ],
      "metadata": {
        "id": "iPO6VyEsOu04"
      }
    },
    {
      "cell_type": "code",
      "source": [
        "from sklearn.metrics import accuracy_score\n",
        "\n",
        "# Get predictions on test set\n",
        "y_pred_probs = model.predict(X_test)  # Get probability outputs\n",
        "y_pred = np.argmax(y_pred_probs, axis=1)  # Convert probabilities to class labels\n",
        "\n",
        "# Compute accuracy\n",
        "accuracy = accuracy_score(y_test, y_pred)\n",
        "print(f\"Test Accuracy: {accuracy:.4f}\")\n"
      ],
      "metadata": {
        "colab": {
          "base_uri": "https://localhost:8080/"
        },
        "id": "4e50oY0HQ3qq",
        "outputId": "68ecbc1a-1a82-406a-d641-608c71882cd0"
      },
      "execution_count": 5,
      "outputs": [
        {
          "output_type": "stream",
          "name": "stdout",
          "text": [
            "\u001b[1m12/12\u001b[0m \u001b[32m━━━━━━━━━━━━━━━━━━━━\u001b[0m\u001b[37m\u001b[0m \u001b[1m0s\u001b[0m 14ms/step\n",
            "Test Accuracy: 0.9778\n"
          ]
        }
      ]
    },
    {
      "cell_type": "markdown",
      "source": [
        "This code evaluates the trained model’s performance on the test set:\n",
        "\n",
        "- model.predict(X_test) generates probability scores for each class.\n",
        "- np.argmax(y_pred_probs, axis=1) converts these probabilities into class labels by selecting the class with the highest probability.\n",
        "- accuracy_score(y_test, y_pred) calculates the model's accuracy by comparing predictions with true labels.\n",
        "- The final accuracy is 97.78%, indicating strong model performance on unseen data."
      ],
      "metadata": {
        "id": "oNeKIjjlW92w"
      }
    },
    {
      "cell_type": "code",
      "source": [
        "#create confusions matrix\n",
        "import seaborn as sns\n",
        "import matplotlib.pyplot as plt\n",
        "from sklearn.metrics import confusion_matrix\n",
        "\n",
        "# Generate confusion matrix\n",
        "cm = confusion_matrix(y_test, y_pred)\n",
        "\n",
        "# Plot confusion matrix\n",
        "plt.figure(figsize=(8, 6))\n",
        "sns.heatmap(cm, annot=True, fmt='d', cmap='Blues', xticklabels=range(10), yticklabels=range(10))\n",
        "plt.xlabel('Predicted Label')\n",
        "plt.ylabel('True Label')\n",
        "plt.title('Confusion Matrix')\n",
        "plt.show()\n"
      ],
      "metadata": {
        "colab": {
          "base_uri": "https://localhost:8080/",
          "height": 564
        },
        "id": "sw9JEKHhRb-C",
        "outputId": "015e07a3-9623-4994-b5e9-bf5b63bafb4b"
      },
      "execution_count": 6,
      "outputs": [
        {
          "output_type": "display_data",
          "data": {
            "text/plain": [
              "<Figure size 800x600 with 2 Axes>"
            ],
            "image/png": "[encoded data removed]"
          },
          "metadata": {}
        }
      ]
    },
    {
      "cell_type": "markdown",
      "source": [
        " Confusion Matrix Analysis\n",
        "\n",
        "- The model performs well with most predictions being correct.\n",
        "- Misclassifications typically happen between similar digits.\n",
        "- The diagonal of the confusion matrix indicates strong accuracy.\n"
      ],
      "metadata": {
        "id": "zwfVVisfYbjz"
      }
    },
    {
      "cell_type": "code",
      "source": [
        "#visualize misclassclasified digits\n",
        "\n",
        "misclassified_idxs = np.where(y_pred != y_test)[0]  # Get misclassified indices\n",
        "\n",
        "# Check if there are enough misclassified examples to plot\n",
        "num_misclassified = len(misclassified_idxs)\n",
        "num_to_plot = min(num_misclassified, 9)  # Plot at most 9, or fewer if there are less\n",
        "\n",
        "# Plot some misclassified digits\n",
        "fig, axes = plt.subplots(3, 3, figsize=(8, 8))\n",
        "axes = axes.ravel()\n",
        "\n",
        "for i in range(num_to_plot):  # Iterate through the misclassified examples to plot\n",
        "    idx = misclassified_idxs[i]\n",
        "    axes[i].imshow(X_test[idx].reshape(8, 8), cmap='gray')\n",
        "    axes[i].set_title(f\"Pred: {y_pred[idx]}, True: {y_test[idx]}\")\n",
        "    axes[i].axis('off')\n",
        "\n",
        "# Hide any unused subplots\n",
        "for i in range(num_to_plot, 9):\n",
        "    axes[i].axis('off')  # Turn off axes for unused subplots\n",
        "\n",
        "plt.tight_layout()\n",
        "plt.show()"
      ],
      "metadata": {
        "colab": {
          "base_uri": "https://localhost:8080/",
          "height": 806
        },
        "id": "U3PH_TfgRAI1",
        "outputId": "398048dd-6bb5-4ef9-d1d8-133d358697b9"
      },
      "execution_count": 8,
      "outputs": [
        {
          "output_type": "display_data",
          "data": {
            "text/plain": [
              "<Figure size 800x800 with 9 Axes>"
            ],
            "image/png": "[encoded data removed]"
          },
          "metadata": {}
        }
      ]
    },
    {
      "cell_type": "markdown",
      "source": [
        "Misclassified Examples\n",
        "\n",
        "- Errors are due to similar-looking digits or ambiguous ones.\n",
        "- Probability outputs show some hesitation between classes.\n",
        "- Some misclassifications might be linked to unclear handwriting."
      ],
      "metadata": {
        "id": "pz4Vw22yYlGw"
      }
    },
    {
      "cell_type": "code",
      "source": [
        "#analyse network predictions\n",
        "# Show some predictions with their probabilities\n",
        "for i in range(5):  # Show first 5 misclassified examples\n",
        "    idx = misclassified_idxs[i]\n",
        "    print(f\"True Label: {y_test[idx]}, Predicted: {y_pred[idx]}\")\n",
        "    print(f\"Prediction Probabilities: {y_pred_probs[idx]}\")\n",
        "    print(\"-\" * 50)\n"
      ],
      "metadata": {
        "colab": {
          "base_uri": "https://localhost:8080/"
        },
        "id": "5g4fEMuVRBS9",
        "outputId": "31d3a4e9-da69-4053-8905-9fdce20362e7"
      },
      "execution_count": 9,
      "outputs": [
        {
          "output_type": "stream",
          "name": "stdout",
          "text": [
            "True Label: 2, Predicted: 3\n",
            "Prediction Probabilities: [1.5330172e-05 5.1623781e-04 2.2314037e-01 6.8822324e-01 4.0483137e-04\n",
            " 1.3117833e-02 9.7237258e-05 7.1397461e-02 3.0306797e-03 5.6733137e-05]\n",
            "--------------------------------------------------\n",
            "True Label: 0, Predicted: 4\n",
            "Prediction Probabilities: [0.32525185 0.09324445 0.00574219 0.00070452 0.47448617 0.00227529\n",
            " 0.00380787 0.06495772 0.00482289 0.024707  ]\n",
            "--------------------------------------------------\n",
            "True Label: 7, Predicted: 9\n",
            "Prediction Probabilities: [1.2102157e-03 1.5341853e-03 1.2993251e-03 1.8133849e-03 2.2036783e-02\n",
            " 5.2697100e-02 3.3214572e-04 1.1740076e-02 8.7356651e-03 8.9860117e-01]\n",
            "--------------------------------------------------\n",
            "True Label: 3, Predicted: 5\n",
            "Prediction Probabilities: [2.5614985e-04 5.0561540e-03 3.6684686e-04 4.6449933e-02 7.4079633e-04\n",
            " 9.3595123e-01 5.0380465e-04 1.9171405e-04 4.1686208e-03 6.3146050e-03]\n",
            "--------------------------------------------------\n",
            "True Label: 9, Predicted: 7\n",
            "Prediction Probabilities: [0.00070783 0.03004438 0.00339276 0.00284467 0.02168455 0.00273464\n",
            " 0.00341712 0.50410473 0.12167968 0.30938965]\n",
            "--------------------------------------------------\n"
          ]
        }
      ]
    },
    {
      "cell_type": "markdown",
      "source": [
        "Overall Accuracy\n",
        "\n",
        "The model has an excellent test accuracy of 97.78%.\n",
        "Misclassifications are minimal and mostly involve ambiguous cases.\n"
      ],
      "metadata": {
        "id": "tdb-uJJeY7IA"
      }
    },
    {
      "cell_type": "markdown",
      "source": [
        "## **Conclusion**  \n",
        "\n",
        "In this project, I successfully implemented a deep neural network (DNN) for MNIST digit classification, incorporating essential techniques to enhance performance and generalization.  \n",
        "\n",
        "The model architecture was carefully designed with multiple hidden layers, dropout regularization, and batch normalization to prevent overfitting and accelerate training. Mini-batch training was also implemented to improve convergence efficiency.  \n",
        "\n",
        "During training, I optimized the model using cross-entropy loss and the Stochastic Gradient Descent (SGD) optimizer with momentum. Learning rate decay was applied to refine weight updates over time, and early stopping ensured that training stopped at the optimal moment to prevent unnecessary overfitting.  \n",
        "\n",
        "For evaluation, the model achieved a high accuracy of **97.78%** on the test set, demonstrating its strong predictive capabilities. A confusion matrix provided insights into classification errors, highlighting specific digits that were occasionally misclassified. Additionally, visualizing misclassified digits allowed for a deeper analysis of the network's decision-making process.  \n",
        "\n",
        "Overall, this project showcases a well-rounded approach to training deep neural networks, balancing accuracy, generalization, and computational efficiency. Future improvements could involve experimenting with convolutional neural networks (CNNs) or fine-tuning hyperparameters to further optimize the model's performance."
      ],
      "metadata": {
        "id": "Y2UY0awJY_TX"
      }
    }
  ]
}